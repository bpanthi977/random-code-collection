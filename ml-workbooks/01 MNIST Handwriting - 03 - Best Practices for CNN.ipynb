{
 "cells": [
  {
   "cell_type": "markdown",
   "id": "b784bb4c-304a-4171-b630-1ff9f0bafba7",
   "metadata": {
    "collapsed": false
   },
   "source": [
    "From the paper: \n",
    "\"Best Practices for Convolutional Neural Networks Applied to Visual Document Analysis\"\n",
    "by Patrice Y. Simard, Dave Steinkraus, John C. Platt\n",
    "\n",
    "Proceedings of the Seventh International Conference on Document Analysis and Recognition (ICDAR 2003)"
   ]
  },
  {
   "cell_type": "code",
   "execution_count": 2,
   "id": "a4f1a29d-80b0-4878-8fe2-411bcab99081",
   "metadata": {
    "collapsed": false,
    "tags": []
   },
   "outputs": [],
   "source": [
    "import torch\n",
    "import torchvision\n",
    "import torchvision.transforms as transforms\n",
    "import torch.nn as nn \n",
    "import torch.nn.functional as F\n",
    "import torch.optim as optim\n",
    "import numpy as np "
   ]
  },
  {
   "cell_type": "code",
   "execution_count": 3,
   "id": "595d40ad-e5fe-4520-9b8f-10e873f7c723",
   "metadata": {
    "collapsed": false,
    "tags": []
   },
   "outputs": [],
   "source": [
    "device = torch.device('mps')\n",
    "\n",
    "transform = transforms.Compose([\n",
    "        transforms.ToTensor()\n",
    "    ])\n",
    "\n",
    "train_dataset = torchvision.datasets.MNIST(\n",
    "    '~/ML/data/', \n",
    "    train=True, \n",
    "    download=True,\n",
    "    transform=transform,\n",
    ")\n",
    "train_dataset.data.to(device)\n",
    "train_dataset.targets.to(device)\n",
    "\n",
    "\n",
    "test_dataset = torchvision.datasets.MNIST(\n",
    "    '~/ML/data/',\n",
    "    train=False,\n",
    "    download=True,\n",
    "    transform=transform\n",
    ")\n",
    "test_dataset.data.to(device)\n",
    "test_dataset.targets.to(device)\n",
    "\n",
    "train_loader = torch.utils.data.DataLoader(\n",
    "    train_dataset, batch_size=64, shuffle=True\n",
    ")\n",
    "\n",
    "test_loader = torch.utils.data.DataLoader(\n",
    "    train_dataset, batch_size=1024, shuffle=True \n",
    ")"
   ]
  },
  {
   "cell_type": "code",
   "execution_count": 4,
   "id": "2b76fb0d",
   "metadata": {
    "collapsed": false
   },
   "outputs": [],
   "source": [
    "examples = enumerate(test_loader)\n",
    "batch_idx, (example_data, example_targets) = next(examples)\n"
   ]
  },
  {
   "cell_type": "code",
   "execution_count": 5,
   "id": "81134efe",
   "metadata": {
    "collapsed": false,
    "scrolled": true
   },
   "outputs": [
    {
     "data": {
      "image/png": "[encoded data removed]",
      "text/plain": [
       "<Figure size 640x480 with 6 Axes>"
      ]
     },
     "metadata": {},
     "output_type": "display_data"
    }
   ],
   "source": [
    "import matplotlib.pyplot as plt\n",
    "\n",
    "def plotImages(n, data, targets, pred=None):\n",
    "    fig = plt.figure()\n",
    "    ncols = 3\n",
    "    nrows = n//ncols\n",
    "    for i in range(n):\n",
    "      plt.subplot(nrows, ncols,i+1)\n",
    "      plt.tight_layout()\n",
    "      plt.imshow(data[i][0], cmap='gray', interpolation='none')\n",
    "      if pred != None:\n",
    "        plt.title(\"Ground Truth: {}| Pred:{}\".format(targets[i], pred[i]))\n",
    "      else:\n",
    "        plt.title(\"Ground Truth: {}\".format(targets[i]))\n",
    "      plt.xticks([])\n",
    "      plt.yticks([])\n",
    "      fig\n",
    "    \n",
    "plotImages(6, example_data, example_targets)"
   ]
  },
  {
   "cell_type": "code",
   "execution_count": 6,
   "id": "7e7e726e",
   "metadata": {
    "collapsed": false
   },
   "outputs": [],
   "source": [
    "class MNISTNet(nn.Module):\n",
    "    def __init__(self):\n",
    "        super(MNISTNet, self).__init__()\n",
    "        input_dim = 28\n",
    "        kernel_size = 5\n",
    "        last_conv_out = ((input_dim - kernel_size + 1)/2 - kernel_size + 1) / 2\n",
    "        self.net = nn.Sequential(\n",
    "            nn.Conv2d(in_channels=1, out_channels=5, kernel_size=5),\n",
    "            nn.MaxPool2d(kernel_size=2),\n",
    "            nn.Conv2d(in_channels=5, out_channels=50, kernel_size=5),\n",
    "            nn.MaxPool2d(kernel_size=2),\n",
    "            nn.Flatten(),\n",
    "            nn.Linear(in_features=int(pow(last_conv_out,2)*50), out_features=100, bias=True),\n",
    "            nn.Linear(in_features=100, out_features=10, bias=True)\n",
    "        )\n",
    "        \n",
    "    def forward(self, x):\n",
    "        x = self.net(x)\n",
    "        return F.log_softmax(x, dim =1)\n",
    "    \n",
    "network = MNISTNet().to(device)\n",
    "learning_rate = 0.01\n",
    "momentum = 0.5\n",
    "optimizer = optim.Adam(network.parameters())"
   ]
  },
  {
   "cell_type": "code",
   "execution_count": 7,
   "id": "1a644bcb",
   "metadata": {
    "collapsed": false,
    "scrolled": true
   },
   "outputs": [],
   "source": [
    "train_log_batch = 100\n",
    "def train(epoch):\n",
    "    network.train()\n",
    "    total_loss = 0\n",
    "    count = 0\n",
    "    for batch_idx, (data, target) in enumerate(train_loader):\n",
    "        target = target.to(device)\n",
    "        optimizer.zero_grad()\n",
    "        output = network(data.to(device))\n",
    "        loss = F.nll_loss(output, target)\n",
    "        loss.backward()\n",
    "        optimizer.step()\n",
    "        total_loss += loss.item()\n",
    "        count+=target.shape[0]\n",
    "\n",
    "        if (batch_idx+1) % train_log_batch == 0:\n",
    "            print(\"\\tTrain Batch: {} Loss: {:.6f}\".format(batch_idx+1, total_loss/count))\n",
    "            \n",
    "    print('Train Epoch: {} Loss: {:.6f}\\n'.format(epoch, total_loss/count))\n"
   ]
  },
  {
   "cell_type": "code",
   "execution_count": 8,
   "id": "d1104a92",
   "metadata": {
    "collapsed": false
   },
   "outputs": [],
   "source": [
    "bad_samples = []\n",
    "def test():\n",
    "    network.eval() \n",
    "    total_loss = 0\n",
    "    total_correct = 0\n",
    "    count = 0\n",
    "    bad_samples = []\n",
    "    for batch_idx, (data, target) in enumerate(test_loader):\n",
    "        target=target.to(device)\n",
    "        output = network(data.to(device))\n",
    "        loss = F.nll_loss(output, target)\n",
    "        total_loss += loss.item()\n",
    "        \n",
    "        pred = output.data.max(1).indices\n",
    "        total_correct += (pred == target).sum()\n",
    "        \n",
    "        \n",
    "        count+=target.shape[0]\n",
    "    print('Test Accuracy: {:.4f}, Loss: {:.6f}\\n'.format(total_correct/count*100, total_loss/count))"
   ]
  },
  {
   "cell_type": "code",
   "execution_count": 9,
   "id": "23d49336",
   "metadata": {
    "collapsed": false
   },
   "outputs": [
    {
     "name": "stdout",
     "output_type": "stream",
     "text": [
      "Test Accuracy: 14.6167, Loss: 0.002259\n",
      "\n"
     ]
    },
    {
     "data": {
      "text/plain": [
       "2.3158073750018957"
      ]
     },
     "execution_count": 9,
     "metadata": {},
     "output_type": "execute_result"
    }
   ],
   "source": [
    "import timeit\n",
    "timeit.timeit(lambda: test(), number=1 )"
   ]
  },
  {
   "cell_type": "code",
   "execution_count": 10,
   "id": "98b7fe3c-53ab-48d5-8f66-8dfd0823c969",
   "metadata": {
    "collapsed": false
   },
   "outputs": [
    {
     "name": "stdout",
     "output_type": "stream",
     "text": [
      "Test Accuracy: 14.6167, Loss: 0.002259\n",
      "\n"
     ]
    },
    {
     "name": "stdout",
     "output_type": "stream",
     "text": [
      "\tTrain Batch: 100 Loss: 0.011308\n"
     ]
    },
    {
     "name": "stdout",
     "output_type": "stream",
     "text": [
      "\tTrain Batch: 200 Loss: 0.007742\n"
     ]
    },
    {
     "name": "stdout",
     "output_type": "stream",
     "text": [
      "\tTrain Batch: 300 Loss: 0.006080\n"
     ]
    },
    {
     "name": "stdout",
     "output_type": "stream",
     "text": [
      "\tTrain Batch: 400 Loss: 0.005111\n"
     ]
    },
    {
     "name": "stdout",
     "output_type": "stream",
     "text": [
      "\tTrain Batch: 500 Loss: 0.004526\n"
     ]
    },
    {
     "name": "stdout",
     "output_type": "stream",
     "text": [
      "\tTrain Batch: 600 Loss: 0.004077\n"
     ]
    },
    {
     "name": "stdout",
     "output_type": "stream",
     "text": [
      "\tTrain Batch: 700 Loss: 0.003730\n"
     ]
    },
    {
     "name": "stdout",
     "output_type": "stream",
     "text": [
      "\tTrain Batch: 800 Loss: 0.003424\n"
     ]
    },
    {
     "name": "stdout",
     "output_type": "stream",
     "text": [
      "\tTrain Batch: 900 Loss: 0.003224\n"
     ]
    },
    {
     "name": "stdout",
     "output_type": "stream",
     "text": [
      "Train Epoch: 1 Loss: 0.003159\n",
      "\n"
     ]
    },
    {
     "name": "stdout",
     "output_type": "stream",
     "text": [
      "Test Accuracy: 97.8167, Loss: 0.000073\n",
      "\n"
     ]
    },
    {
     "name": "stdout",
     "output_type": "stream",
     "text": [
      "\tTrain Batch: 100 Loss: 0.001233\n"
     ]
    },
    {
     "name": "stdout",
     "output_type": "stream",
     "text": [
      "\tTrain Batch: 200 Loss: 0.001194\n"
     ]
    },
    {
     "name": "stdout",
     "output_type": "stream",
     "text": [
      "\tTrain Batch: 300 Loss: 0.001223\n"
     ]
    },
    {
     "name": "stdout",
     "output_type": "stream",
     "text": [
      "\tTrain Batch: 400 Loss: 0.001170\n"
     ]
    },
    {
     "name": "stdout",
     "output_type": "stream",
     "text": [
      "\tTrain Batch: 500 Loss: 0.001151\n"
     ]
    },
    {
     "name": "stdout",
     "output_type": "stream",
     "text": [
      "\tTrain Batch: 600 Loss: 0.001174\n"
     ]
    },
    {
     "name": "stdout",
     "output_type": "stream",
     "text": [
      "\tTrain Batch: 700 Loss: 0.001163\n"
     ]
    },
    {
     "name": "stdout",
     "output_type": "stream",
     "text": [
      "\tTrain Batch: 800 Loss: 0.001146\n"
     ]
    },
    {
     "name": "stdout",
     "output_type": "stream",
     "text": [
      "\tTrain Batch: 900 Loss: 0.001139\n"
     ]
    },
    {
     "name": "stdout",
     "output_type": "stream",
     "text": [
      "Train Epoch: 2 Loss: 0.001147\n",
      "\n"
     ]
    },
    {
     "name": "stdout",
     "output_type": "stream",
     "text": [
      "Test Accuracy: 97.9617, Loss: 0.000063\n",
      "\n"
     ]
    },
    {
     "name": "stdout",
     "output_type": "stream",
     "text": [
      "\tTrain Batch: 100 Loss: 0.000794\n"
     ]
    },
    {
     "name": "stdout",
     "output_type": "stream",
     "text": [
      "\tTrain Batch: 200 Loss: 0.000815\n"
     ]
    },
    {
     "name": "stdout",
     "output_type": "stream",
     "text": [
      "\tTrain Batch: 300 Loss: 0.000822\n"
     ]
    },
    {
     "name": "stdout",
     "output_type": "stream",
     "text": [
      "\tTrain Batch: 400 Loss: 0.000859\n"
     ]
    },
    {
     "name": "stdout",
     "output_type": "stream",
     "text": [
      "\tTrain Batch: 500 Loss: 0.000863\n"
     ]
    },
    {
     "name": "stdout",
     "output_type": "stream",
     "text": [
      "\tTrain Batch: 600 Loss: 0.000890\n"
     ]
    },
    {
     "name": "stdout",
     "output_type": "stream",
     "text": [
      "\tTrain Batch: 700 Loss: 0.000876\n"
     ]
    },
    {
     "name": "stdout",
     "output_type": "stream",
     "text": [
      "\tTrain Batch: 800 Loss: 0.000886\n"
     ]
    },
    {
     "name": "stdout",
     "output_type": "stream",
     "text": [
      "\tTrain Batch: 900 Loss: 0.000886\n"
     ]
    },
    {
     "name": "stdout",
     "output_type": "stream",
     "text": [
      "Train Epoch: 3 Loss: 0.000883\n",
      "\n"
     ]
    },
    {
     "name": "stdout",
     "output_type": "stream",
     "text": [
      "Test Accuracy: 98.7650, Loss: 0.000038\n",
      "\n"
     ]
    },
    {
     "name": "stdout",
     "output_type": "stream",
     "text": [
      "\tTrain Batch: 100 Loss: 0.000740\n"
     ]
    },
    {
     "name": "stdout",
     "output_type": "stream",
     "text": [
      "\tTrain Batch: 200 Loss: 0.000765\n"
     ]
    },
    {
     "name": "stdout",
     "output_type": "stream",
     "text": [
      "\tTrain Batch: 300 Loss: 0.000741\n"
     ]
    },
    {
     "name": "stdout",
     "output_type": "stream",
     "text": [
      "\tTrain Batch: 400 Loss: 0.000724\n"
     ]
    },
    {
     "name": "stdout",
     "output_type": "stream",
     "text": [
      "\tTrain Batch: 500 Loss: 0.000707\n"
     ]
    },
    {
     "name": "stdout",
     "output_type": "stream",
     "text": [
      "\tTrain Batch: 600 Loss: 0.000698\n"
     ]
    },
    {
     "name": "stdout",
     "output_type": "stream",
     "text": [
      "\tTrain Batch: 700 Loss: 0.000725\n"
     ]
    },
    {
     "name": "stdout",
     "output_type": "stream",
     "text": [
      "\tTrain Batch: 800 Loss: 0.000745\n"
     ]
    },
    {
     "name": "stdout",
     "output_type": "stream",
     "text": [
      "\tTrain Batch: 900 Loss: 0.000744\n"
     ]
    },
    {
     "name": "stdout",
     "output_type": "stream",
     "text": [
      "Train Epoch: 4 Loss: 0.000749\n",
      "\n"
     ]
    },
    {
     "name": "stdout",
     "output_type": "stream",
     "text": [
      "Test Accuracy: 98.8283, Loss: 0.000035\n",
      "\n"
     ]
    },
    {
     "name": "stdout",
     "output_type": "stream",
     "text": [
      "\tTrain Batch: 100 Loss: 0.000526\n"
     ]
    },
    {
     "name": "stdout",
     "output_type": "stream",
     "text": [
      "\tTrain Batch: 200 Loss: 0.000636\n"
     ]
    },
    {
     "name": "stdout",
     "output_type": "stream",
     "text": [
      "\tTrain Batch: 300 Loss: 0.000608\n"
     ]
    },
    {
     "name": "stdout",
     "output_type": "stream",
     "text": [
      "\tTrain Batch: 400 Loss: 0.000636\n"
     ]
    },
    {
     "name": "stdout",
     "output_type": "stream",
     "text": [
      "\tTrain Batch: 500 Loss: 0.000618\n"
     ]
    },
    {
     "name": "stdout",
     "output_type": "stream",
     "text": [
      "\tTrain Batch: 600 Loss: 0.000615\n"
     ]
    },
    {
     "name": "stdout",
     "output_type": "stream",
     "text": [
      "\tTrain Batch: 700 Loss: 0.000631\n"
     ]
    },
    {
     "name": "stdout",
     "output_type": "stream",
     "text": [
      "\tTrain Batch: 800 Loss: 0.000640\n"
     ]
    },
    {
     "name": "stdout",
     "output_type": "stream",
     "text": [
      "\tTrain Batch: 900 Loss: 0.000657\n"
     ]
    },
    {
     "name": "stdout",
     "output_type": "stream",
     "text": [
      "Train Epoch: 5 Loss: 0.000664\n",
      "\n"
     ]
    },
    {
     "name": "stdout",
     "output_type": "stream",
     "text": [
      "Test Accuracy: 98.8200, Loss: 0.000035\n",
      "\n"
     ]
    },
    {
     "name": "stdout",
     "output_type": "stream",
     "text": [
      "\tTrain Batch: 100 Loss: 0.000485\n"
     ]
    },
    {
     "name": "stdout",
     "output_type": "stream",
     "text": [
      "\tTrain Batch: 200 Loss: 0.000513\n"
     ]
    },
    {
     "name": "stdout",
     "output_type": "stream",
     "text": [
      "\tTrain Batch: 300 Loss: 0.000591\n"
     ]
    },
    {
     "name": "stdout",
     "output_type": "stream",
     "text": [
      "\tTrain Batch: 400 Loss: 0.000590\n"
     ]
    },
    {
     "name": "stdout",
     "output_type": "stream",
     "text": [
      "\tTrain Batch: 500 Loss: 0.000584\n"
     ]
    },
    {
     "name": "stdout",
     "output_type": "stream",
     "text": [
      "\tTrain Batch: 600 Loss: 0.000581\n"
     ]
    },
    {
     "name": "stdout",
     "output_type": "stream",
     "text": [
      "\tTrain Batch: 700 Loss: 0.000567\n"
     ]
    },
    {
     "name": "stdout",
     "output_type": "stream",
     "text": [
      "\tTrain Batch: 800 Loss: 0.000573\n"
     ]
    },
    {
     "name": "stdout",
     "output_type": "stream",
     "text": [
      "\tTrain Batch: 900 Loss: 0.000586\n"
     ]
    },
    {
     "name": "stdout",
     "output_type": "stream",
     "text": [
      "Train Epoch: 6 Loss: 0.000584\n",
      "\n"
     ]
    },
    {
     "name": "stdout",
     "output_type": "stream",
     "text": [
      "Test Accuracy: 99.1083, Loss: 0.000027\n",
      "\n"
     ]
    },
    {
     "name": "stdout",
     "output_type": "stream",
     "text": [
      "\tTrain Batch: 100 Loss: 0.000404\n"
     ]
    },
    {
     "name": "stdout",
     "output_type": "stream",
     "text": [
      "\tTrain Batch: 200 Loss: 0.000411\n"
     ]
    },
    {
     "name": "stdout",
     "output_type": "stream",
     "text": [
      "\tTrain Batch: 300 Loss: 0.000442\n"
     ]
    },
    {
     "name": "stdout",
     "output_type": "stream",
     "text": [
      "\tTrain Batch: 400 Loss: 0.000438\n"
     ]
    },
    {
     "name": "stdout",
     "output_type": "stream",
     "text": [
      "\tTrain Batch: 500 Loss: 0.000462\n"
     ]
    },
    {
     "name": "stdout",
     "output_type": "stream",
     "text": [
      "\tTrain Batch: 600 Loss: 0.000472\n"
     ]
    },
    {
     "name": "stdout",
     "output_type": "stream",
     "text": [
      "\tTrain Batch: 700 Loss: 0.000493\n"
     ]
    },
    {
     "name": "stdout",
     "output_type": "stream",
     "text": [
      "\tTrain Batch: 800 Loss: 0.000495\n"
     ]
    },
    {
     "name": "stdout",
     "output_type": "stream",
     "text": [
      "\tTrain Batch: 900 Loss: 0.000503\n"
     ]
    },
    {
     "name": "stdout",
     "output_type": "stream",
     "text": [
      "Train Epoch: 7 Loss: 0.000512\n",
      "\n"
     ]
    },
    {
     "name": "stdout",
     "output_type": "stream",
     "text": [
      "Test Accuracy: 98.6667, Loss: 0.000041\n",
      "\n"
     ]
    },
    {
     "name": "stdout",
     "output_type": "stream",
     "text": [
      "\tTrain Batch: 100 Loss: 0.000373\n"
     ]
    },
    {
     "name": "stdout",
     "output_type": "stream",
     "text": [
      "\tTrain Batch: 200 Loss: 0.000379\n"
     ]
    },
    {
     "name": "stdout",
     "output_type": "stream",
     "text": [
      "\tTrain Batch: 300 Loss: 0.000421\n"
     ]
    },
    {
     "name": "stdout",
     "output_type": "stream",
     "text": [
      "\tTrain Batch: 400 Loss: 0.000423\n"
     ]
    },
    {
     "name": "stdout",
     "output_type": "stream",
     "text": [
      "\tTrain Batch: 500 Loss: 0.000447\n"
     ]
    },
    {
     "name": "stdout",
     "output_type": "stream",
     "text": [
      "\tTrain Batch: 600 Loss: 0.000449\n"
     ]
    },
    {
     "name": "stdout",
     "output_type": "stream",
     "text": [
      "\tTrain Batch: 700 Loss: 0.000450\n"
     ]
    },
    {
     "name": "stdout",
     "output_type": "stream",
     "text": [
      "\tTrain Batch: 800 Loss: 0.000472\n"
     ]
    },
    {
     "name": "stdout",
     "output_type": "stream",
     "text": [
      "\tTrain Batch: 900 Loss: 0.000468\n"
     ]
    },
    {
     "name": "stdout",
     "output_type": "stream",
     "text": [
      "Train Epoch: 8 Loss: 0.000469\n",
      "\n"
     ]
    },
    {
     "name": "stdout",
     "output_type": "stream",
     "text": [
      "Test Accuracy: 99.1300, Loss: 0.000026\n",
      "\n"
     ]
    },
    {
     "name": "stdout",
     "output_type": "stream",
     "text": [
      "\tTrain Batch: 100 Loss: 0.000414\n"
     ]
    },
    {
     "name": "stdout",
     "output_type": "stream",
     "text": [
      "\tTrain Batch: 200 Loss: 0.000391\n"
     ]
    },
    {
     "name": "stdout",
     "output_type": "stream",
     "text": [
      "\tTrain Batch: 300 Loss: 0.000394\n"
     ]
    },
    {
     "name": "stdout",
     "output_type": "stream",
     "text": [
      "\tTrain Batch: 400 Loss: 0.000395\n"
     ]
    },
    {
     "name": "stdout",
     "output_type": "stream",
     "text": [
      "\tTrain Batch: 500 Loss: 0.000392\n"
     ]
    },
    {
     "name": "stdout",
     "output_type": "stream",
     "text": [
      "\tTrain Batch: 600 Loss: 0.000381\n"
     ]
    },
    {
     "name": "stdout",
     "output_type": "stream",
     "text": [
      "\tTrain Batch: 700 Loss: 0.000390\n"
     ]
    },
    {
     "name": "stdout",
     "output_type": "stream",
     "text": [
      "\tTrain Batch: 800 Loss: 0.000404\n"
     ]
    },
    {
     "name": "stdout",
     "output_type": "stream",
     "text": [
      "\tTrain Batch: 900 Loss: 0.000413\n"
     ]
    },
    {
     "name": "stdout",
     "output_type": "stream",
     "text": [
      "Train Epoch: 9 Loss: 0.000421\n",
      "\n"
     ]
    },
    {
     "name": "stdout",
     "output_type": "stream",
     "text": [
      "Test Accuracy: 99.3900, Loss: 0.000018\n",
      "\n"
     ]
    },
    {
     "name": "stdout",
     "output_type": "stream",
     "text": [
      "\tTrain Batch: 100 Loss: 0.000327\n"
     ]
    },
    {
     "name": "stdout",
     "output_type": "stream",
     "text": [
      "\tTrain Batch: 200 Loss: 0.000351\n"
     ]
    },
    {
     "name": "stdout",
     "output_type": "stream",
     "text": [
      "\tTrain Batch: 300 Loss: 0.000363\n"
     ]
    },
    {
     "name": "stdout",
     "output_type": "stream",
     "text": [
      "\tTrain Batch: 400 Loss: 0.000361\n"
     ]
    },
    {
     "name": "stdout",
     "output_type": "stream",
     "text": [
      "\tTrain Batch: 500 Loss: 0.000350\n"
     ]
    },
    {
     "name": "stdout",
     "output_type": "stream",
     "text": [
      "\tTrain Batch: 600 Loss: 0.000340\n"
     ]
    },
    {
     "name": "stdout",
     "output_type": "stream",
     "text": [
      "\tTrain Batch: 700 Loss: 0.000339\n"
     ]
    },
    {
     "name": "stdout",
     "output_type": "stream",
     "text": [
      "\tTrain Batch: 800 Loss: 0.000346\n"
     ]
    },
    {
     "name": "stdout",
     "output_type": "stream",
     "text": [
      "\tTrain Batch: 900 Loss: 0.000362\n"
     ]
    },
    {
     "name": "stdout",
     "output_type": "stream",
     "text": [
      "Train Epoch: 10 Loss: 0.000369\n",
      "\n"
     ]
    },
    {
     "name": "stdout",
     "output_type": "stream",
     "text": [
      "Test Accuracy: 99.2417, Loss: 0.000022\n",
      "\n"
     ]
    },
    {
     "name": "stdout",
     "output_type": "stream",
     "text": [
      "\tTrain Batch: 100 Loss: 0.000272\n"
     ]
    },
    {
     "name": "stdout",
     "output_type": "stream",
     "text": [
      "\tTrain Batch: 200 Loss: 0.000251\n"
     ]
    },
    {
     "name": "stdout",
     "output_type": "stream",
     "text": [
      "\tTrain Batch: 300 Loss: 0.000298\n"
     ]
    },
    {
     "name": "stdout",
     "output_type": "stream",
     "text": [
      "\tTrain Batch: 400 Loss: 0.000336\n"
     ]
    },
    {
     "name": "stdout",
     "output_type": "stream",
     "text": [
      "\tTrain Batch: 500 Loss: 0.000326\n"
     ]
    },
    {
     "name": "stdout",
     "output_type": "stream",
     "text": [
      "\tTrain Batch: 600 Loss: 0.000334\n"
     ]
    },
    {
     "name": "stdout",
     "output_type": "stream",
     "text": [
      "\tTrain Batch: 700 Loss: 0.000345\n"
     ]
    },
    {
     "name": "stdout",
     "output_type": "stream",
     "text": [
      "\tTrain Batch: 800 Loss: 0.000346\n"
     ]
    },
    {
     "name": "stdout",
     "output_type": "stream",
     "text": [
      "\tTrain Batch: 900 Loss: 0.000357\n"
     ]
    },
    {
     "name": "stdout",
     "output_type": "stream",
     "text": [
      "Train Epoch: 11 Loss: 0.000363\n",
      "\n"
     ]
    },
    {
     "name": "stdout",
     "output_type": "stream",
     "text": [
      "Test Accuracy: 99.5133, Loss: 0.000015\n",
      "\n"
     ]
    },
    {
     "name": "stdout",
     "output_type": "stream",
     "text": [
      "\tTrain Batch: 100 Loss: 0.000219\n"
     ]
    },
    {
     "name": "stdout",
     "output_type": "stream",
     "text": [
      "\tTrain Batch: 200 Loss: 0.000248\n"
     ]
    },
    {
     "name": "stdout",
     "output_type": "stream",
     "text": [
      "\tTrain Batch: 300 Loss: 0.000252\n"
     ]
    },
    {
     "name": "stdout",
     "output_type": "stream",
     "text": [
      "\tTrain Batch: 400 Loss: 0.000281\n"
     ]
    },
    {
     "name": "stdout",
     "output_type": "stream",
     "text": [
      "\tTrain Batch: 500 Loss: 0.000302\n"
     ]
    },
    {
     "name": "stdout",
     "output_type": "stream",
     "text": [
      "\tTrain Batch: 600 Loss: 0.000292\n"
     ]
    },
    {
     "name": "stdout",
     "output_type": "stream",
     "text": [
      "\tTrain Batch: 700 Loss: 0.000298\n"
     ]
    },
    {
     "name": "stdout",
     "output_type": "stream",
     "text": [
      "\tTrain Batch: 800 Loss: 0.000299\n"
     ]
    },
    {
     "name": "stdout",
     "output_type": "stream",
     "text": [
      "\tTrain Batch: 900 Loss: 0.000308\n"
     ]
    },
    {
     "name": "stdout",
     "output_type": "stream",
     "text": [
      "Train Epoch: 12 Loss: 0.000308\n",
      "\n"
     ]
    },
    {
     "name": "stdout",
     "output_type": "stream",
     "text": [
      "Test Accuracy: 99.4733, Loss: 0.000015\n",
      "\n"
     ]
    }
   ],
   "source": [
    "n_epoch=12\n",
    "test()\n",
    "for epoch in range(1, n_epoch+1):\n",
    "    train(epoch)\n",
    "    test()"
   ]
  },
  {
   "cell_type": "code",
   "execution_count": 42,
   "id": "74a8757f-c16e-4f6f-b443-0cc2d227a686",
   "metadata": {
    "collapsed": false
   },
   "outputs": [],
   "source": [
    "pred = network(example_data.to(device)).max(1).indices"
   ]
  },
  {
   "cell_type": "code",
   "execution_count": 20,
   "id": "7b465106",
   "metadata": {
    "collapsed": false
   },
   "outputs": [
    {
     "data": {
      "image/png": "[encoded data removed]",
      "text/plain": [
       "<Figure size 640x480 with 6 Axes>"
      ]
     },
     "metadata": {},
     "output_type": "display_data"
    }
   ],
   "source": [
    "idxs = pred != example_targets.to(device)\n",
    "plotImages(6, example_data.to(device)[idxs].to('cpu'), example_targets.to(device)[idxs].to('cpu'), pred[idxs].to('cpu'))"
   ]
  }
 ],
 "metadata": {
  "kernelspec": {
   "argv": [
    "/opt/homebrew/opt/python@3.11/bin/python3.11",
    "-m",
    "ipykernel_launcher",
    "-f",
    "{connection_file}"
   ],
   "display_name": "Python 3 (ipykernel)",
   "env": null,
   "interrupt_mode": "signal",
   "language": "python",
   "metadata": {
    "debugger": true
   },
   "name": "python3"
  },
  "language_info": {
   "codemirror_mode": {
    "name": "ipython",
    "version": 3
   },
   "file_extension": ".py",
   "mimetype": "text/x-python",
   "name": "python",
   "nbconvert_exporter": "python",
   "pygments_lexer": "ipython3",
   "version": "3.11.2"
  },
  "name": "01 MNIST Handwriting - 03 - Best Practices for CNN.ipynb"
 },
 "nbformat": 4,
 "nbformat_minor": 5
}
