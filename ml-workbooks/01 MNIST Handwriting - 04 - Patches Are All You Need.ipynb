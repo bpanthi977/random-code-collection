{
 "cells": [
  {
   "cell_type": "markdown",
   "id": "e55f7889-aab4-4cf8-a990-dd732900ab1d",
   "metadata": {
    "collapsed": false
   },
   "source": [
    "From the paper:\n",
    "\"Patches Are All You Need?\"\n",
    "by Asher Trockman, J. Zico Kolter1\n",
    "\n",
    "published in Transactions on Machine Learning Research (03/2023)"
   ]
  },
  {
   "cell_type": "code",
   "execution_count": 2,
   "id": "a4f1a29d-80b0-4878-8fe2-411bcab99081",
   "metadata": {
    "collapsed": false,
    "tags": []
   },
   "outputs": [],
   "source": [
    "import torch\n",
    "import torchvision\n",
    "import torchvision.transforms as transforms\n",
    "import torch.nn as nn \n",
    "import torch.nn.functional as F\n",
    "import torch.optim as optim\n",
    "import numpy as np "
   ]
  },
  {
   "cell_type": "code",
   "execution_count": 3,
   "id": "595d40ad-e5fe-4520-9b8f-10e873f7c723",
   "metadata": {
    "collapsed": false,
    "tags": []
   },
   "outputs": [],
   "source": [
    "device = torch.device('mps')\n",
    "\n",
    "transform = transforms.Compose([\n",
    "        transforms.ToTensor()\n",
    "    ])\n",
    "\n",
    "train_dataset = torchvision.datasets.MNIST(\n",
    "    '~/ML/data/', \n",
    "    train=True, \n",
    "    download=True,\n",
    "    transform=transform,\n",
    ")\n",
    "train_dataset.data.to(device)\n",
    "train_dataset.targets.to(device)\n",
    "\n",
    "\n",
    "test_dataset = torchvision.datasets.MNIST(\n",
    "    '~/ML/data/',\n",
    "    train=False,\n",
    "    download=True,\n",
    "    transform=transform\n",
    ")\n",
    "test_dataset.data.to(device)\n",
    "test_dataset.targets.to(device)\n",
    "\n",
    "train_loader = torch.utils.data.DataLoader(\n",
    "    train_dataset, batch_size=64, shuffle=True\n",
    ")\n",
    "\n",
    "test_loader = torch.utils.data.DataLoader(\n",
    "    train_dataset, batch_size=1024, shuffle=True \n",
    ")"
   ]
  },
  {
   "cell_type": "code",
   "execution_count": 4,
   "id": "7e7e726e",
   "metadata": {
    "collapsed": false
   },
   "outputs": [],
   "source": [
    "# From Patches Are All You Need? paper\n",
    "\n",
    "class Residual(nn.Module):\n",
    "    def __init__(self, fn):\n",
    "        super().__init__()\n",
    "        self.fn = fn\n",
    "\n",
    "    def forward(self, x):\n",
    "        return self.fn(x) +x\n",
    "    \n",
    "def ConvMixer(dim, depth, kernel_size=9, patch_size=7, n_classes=10):\n",
    "    return nn.Sequential(\n",
    "        nn.Conv2d(1, dim, kernel_size=patch_size, stride=patch_size),\n",
    "        nn.GELU(),\n",
    "        nn.BatchNorm2d(dim),\n",
    "        *[nn.Sequential(\n",
    "            Residual(nn.Sequential(\n",
    "                nn.Conv2d(dim, dim, kernel_size, groups=dim, padding=\"same\"),\n",
    "                nn.GELU(),\n",
    "                nn.BatchNorm2d(dim)\n",
    "            )),\n",
    "            nn.Conv2d(dim, dim, kernel_size=1),\n",
    "            nn.GELU(),\n",
    "            nn.BatchNorm2d(dim)\n",
    "        ) for i in range(depth)],\n",
    "        nn.AdaptiveAvgPool2d((1,1)), \n",
    "        nn.Flatten(),\n",
    "        nn.Linear(dim, n_classes)\n",
    "    )"
   ]
  },
  {
   "cell_type": "code",
   "execution_count": 5,
   "id": "d2f231e6-c108-48d4-ba80-4c80e0efb3d6",
   "metadata": {
    "collapsed": false
   },
   "outputs": [],
   "source": [
    "class MNISTNet(nn.Module):\n",
    "    def __init__(self):\n",
    "        super(MNISTNet, self).__init__()\n",
    "        input_dim = 28\n",
    "        kernel_size = 5\n",
    "        self.net = ConvMixer(100, 2, kernel_size=5, patch_size=3, n_classes=10)\n",
    "        \n",
    "    def forward(self, x):\n",
    "        x = self.net(x)\n",
    "        return F.log_softmax(x, dim =1)\n",
    "    \n",
    "network = MNISTNet().to(device)\n",
    "optimizer = optim.Adam(network.parameters())"
   ]
  },
  {
   "cell_type": "code",
   "execution_count": 6,
   "id": "1a644bcb",
   "metadata": {
    "collapsed": false,
    "scrolled": true
   },
   "outputs": [],
   "source": [
    "train_log_batch = 100\n",
    "def train(epoch):\n",
    "    network.train()\n",
    "    total_loss = 0\n",
    "    total_correct = 0\n",
    "    count = 0\n",
    "    for batch_idx, (data, target) in enumerate(train_loader):\n",
    "        target = target.to(device)\n",
    "        optimizer.zero_grad()\n",
    "        output = network(data.to(device))\n",
    "        loss = F.nll_loss(output, target)\n",
    "        loss.backward()\n",
    "        optimizer.step()\n",
    "        total_loss += loss.item()\n",
    "        total_correct += (target == output.data.max(1).indices).sum()\n",
    "        count+=target.shape[0]\n",
    "\n",
    "        if (batch_idx+1) % train_log_batch == 0:\n",
    "            print(\"\\tTrain Batch: {} Loss: {:.6f}\".format(batch_idx+1, total_loss/count))\n",
    "            \n",
    "    print('Train Epoch: {} Accuracy: {:.4f}% Loss: {:.6f}\\n'.format(epoch, total_correct/count*100, total_loss/count))\n"
   ]
  },
  {
   "cell_type": "code",
   "execution_count": 7,
   "id": "d1104a92",
   "metadata": {
    "collapsed": false
   },
   "outputs": [],
   "source": [
    "bad_samples = []\n",
    "def test():\n",
    "    network.eval() \n",
    "    total_loss = 0\n",
    "    total_correct = 0\n",
    "    count = 0\n",
    "    bad_samples = []\n",
    "    for batch_idx, (data, target) in enumerate(test_loader):\n",
    "        target=target.to(device)\n",
    "        output = network(data.to(device))\n",
    "        loss = F.nll_loss(output, target)\n",
    "        total_loss += loss.item()\n",
    "        \n",
    "        pred = output.data.max(1).indices\n",
    "        total_correct += (pred == target).sum()\n",
    "        count+=target.shape[0]\n",
    "        \n",
    "    print('Test Accuracy: {:.4f}, Loss: {:.6f}\\n'.format(total_correct/count*100 , total_loss/count))"
   ]
  },
  {
   "cell_type": "code",
   "execution_count": 8,
   "id": "23d49336",
   "metadata": {
    "collapsed": false
   },
   "outputs": [
    {
     "name": "stdout",
     "output_type": "stream",
     "text": [
      "Test Accuracy: 9.9300, Loss: 0.002266\n",
      "\n"
     ]
    },
    {
     "data": {
      "text/plain": [
       "3.471329459000117"
      ]
     },
     "execution_count": 8,
     "metadata": {},
     "output_type": "execute_result"
    }
   ],
   "source": [
    "import timeit\n",
    "timeit.timeit(lambda: test(), number=1 )"
   ]
  },
  {
   "cell_type": "code",
   "execution_count": 9,
   "id": "9dff2d18-2c18-49d9-91f3-c4e0aaba6f5b",
   "metadata": {
    "collapsed": false
   },
   "outputs": [
    {
     "name": "stdout",
     "output_type": "stream",
     "text": [
      "Test Accuracy: 9.9300, Loss: 0.002266\n",
      "\n"
     ]
    },
    {
     "name": "stdout",
     "output_type": "stream",
     "text": [
      "\tTrain Batch: 100 Loss: 0.020088\n"
     ]
    },
    {
     "name": "stdout",
     "output_type": "stream",
     "text": [
      "\tTrain Batch: 200 Loss: 0.012534\n"
     ]
    },
    {
     "name": "stdout",
     "output_type": "stream",
     "text": [
      "\tTrain Batch: 300 Loss: 0.009318\n"
     ]
    },
    {
     "name": "stdout",
     "output_type": "stream",
     "text": [
      "\tTrain Batch: 400 Loss: 0.007594\n"
     ]
    },
    {
     "name": "stdout",
     "output_type": "stream",
     "text": [
      "\tTrain Batch: 500 Loss: 0.006513\n"
     ]
    },
    {
     "name": "stdout",
     "output_type": "stream",
     "text": [
      "\tTrain Batch: 600 Loss: 0.005702\n"
     ]
    },
    {
     "name": "stdout",
     "output_type": "stream",
     "text": [
      "\tTrain Batch: 700 Loss: 0.005121\n"
     ]
    },
    {
     "name": "stdout",
     "output_type": "stream",
     "text": [
      "\tTrain Batch: 800 Loss: 0.004669\n"
     ]
    },
    {
     "name": "stdout",
     "output_type": "stream",
     "text": [
      "\tTrain Batch: 900 Loss: 0.004305\n"
     ]
    },
    {
     "name": "stdout",
     "output_type": "stream",
     "text": [
      "Train Epoch: 1 Accuracy: 92.5617% Loss: 0.004191\n",
      "\n"
     ]
    },
    {
     "name": "stdout",
     "output_type": "stream",
     "text": [
      "Test Accuracy: 98.0367, Loss: 0.000067\n",
      "\n"
     ]
    },
    {
     "name": "stdout",
     "output_type": "stream",
     "text": [
      "\tTrain Batch: 100 Loss: 0.001016\n"
     ]
    },
    {
     "name": "stdout",
     "output_type": "stream",
     "text": [
      "\tTrain Batch: 200 Loss: 0.001012\n"
     ]
    },
    {
     "name": "stdout",
     "output_type": "stream",
     "text": [
      "\tTrain Batch: 300 Loss: 0.000985\n"
     ]
    },
    {
     "name": "stdout",
     "output_type": "stream",
     "text": [
      "\tTrain Batch: 400 Loss: 0.000989\n"
     ]
    },
    {
     "name": "stdout",
     "output_type": "stream",
     "text": [
      "\tTrain Batch: 500 Loss: 0.000970\n"
     ]
    },
    {
     "name": "stdout",
     "output_type": "stream",
     "text": [
      "\tTrain Batch: 600 Loss: 0.000976\n"
     ]
    },
    {
     "name": "stdout",
     "output_type": "stream",
     "text": [
      "\tTrain Batch: 700 Loss: 0.000985\n"
     ]
    },
    {
     "name": "stdout",
     "output_type": "stream",
     "text": [
      "\tTrain Batch: 800 Loss: 0.000963\n"
     ]
    },
    {
     "name": "stdout",
     "output_type": "stream",
     "text": [
      "\tTrain Batch: 900 Loss: 0.000965\n"
     ]
    },
    {
     "name": "stdout",
     "output_type": "stream",
     "text": [
      "Train Epoch: 2 Accuracy: 98.1283% Loss: 0.000964\n",
      "\n"
     ]
    },
    {
     "name": "stdout",
     "output_type": "stream",
     "text": [
      "Test Accuracy: 98.6883, Loss: 0.000043\n",
      "\n"
     ]
    },
    {
     "name": "stdout",
     "output_type": "stream",
     "text": [
      "\tTrain Batch: 100 Loss: 0.000719\n"
     ]
    },
    {
     "name": "stdout",
     "output_type": "stream",
     "text": [
      "\tTrain Batch: 200 Loss: 0.000712\n"
     ]
    },
    {
     "name": "stdout",
     "output_type": "stream",
     "text": [
      "\tTrain Batch: 300 Loss: 0.000702\n"
     ]
    },
    {
     "name": "stdout",
     "output_type": "stream",
     "text": [
      "\tTrain Batch: 400 Loss: 0.000675\n"
     ]
    },
    {
     "name": "stdout",
     "output_type": "stream",
     "text": [
      "\tTrain Batch: 500 Loss: 0.000674\n"
     ]
    },
    {
     "name": "stdout",
     "output_type": "stream",
     "text": [
      "\tTrain Batch: 600 Loss: 0.000673\n"
     ]
    },
    {
     "name": "stdout",
     "output_type": "stream",
     "text": [
      "\tTrain Batch: 700 Loss: 0.000692\n"
     ]
    },
    {
     "name": "stdout",
     "output_type": "stream",
     "text": [
      "\tTrain Batch: 800 Loss: 0.000690\n"
     ]
    },
    {
     "name": "stdout",
     "output_type": "stream",
     "text": [
      "\tTrain Batch: 900 Loss: 0.000695\n"
     ]
    },
    {
     "name": "stdout",
     "output_type": "stream",
     "text": [
      "Train Epoch: 3 Accuracy: 98.6017% Loss: 0.000694\n",
      "\n"
     ]
    },
    {
     "name": "stdout",
     "output_type": "stream",
     "text": [
      "Test Accuracy: 99.2233, Loss: 0.000026\n",
      "\n"
     ]
    },
    {
     "name": "stdout",
     "output_type": "stream",
     "text": [
      "\tTrain Batch: 100 Loss: 0.000435\n"
     ]
    },
    {
     "name": "stdout",
     "output_type": "stream",
     "text": [
      "\tTrain Batch: 200 Loss: 0.000464\n"
     ]
    },
    {
     "name": "stdout",
     "output_type": "stream",
     "text": [
      "\tTrain Batch: 300 Loss: 0.000462\n"
     ]
    },
    {
     "name": "stdout",
     "output_type": "stream",
     "text": [
      "\tTrain Batch: 400 Loss: 0.000485\n"
     ]
    },
    {
     "name": "stdout",
     "output_type": "stream",
     "text": [
      "\tTrain Batch: 500 Loss: 0.000511\n"
     ]
    },
    {
     "name": "stdout",
     "output_type": "stream",
     "text": [
      "\tTrain Batch: 600 Loss: 0.000512\n"
     ]
    },
    {
     "name": "stdout",
     "output_type": "stream",
     "text": [
      "\tTrain Batch: 700 Loss: 0.000513\n"
     ]
    },
    {
     "name": "stdout",
     "output_type": "stream",
     "text": [
      "\tTrain Batch: 800 Loss: 0.000526\n"
     ]
    },
    {
     "name": "stdout",
     "output_type": "stream",
     "text": [
      "\tTrain Batch: 900 Loss: 0.000528\n"
     ]
    },
    {
     "name": "stdout",
     "output_type": "stream",
     "text": [
      "Train Epoch: 4 Accuracy: 98.9167% Loss: 0.000529\n",
      "\n"
     ]
    },
    {
     "name": "stdout",
     "output_type": "stream",
     "text": [
      "Test Accuracy: 99.1917, Loss: 0.000026\n",
      "\n"
     ]
    },
    {
     "name": "stdout",
     "output_type": "stream",
     "text": [
      "\tTrain Batch: 100 Loss: 0.000309\n"
     ]
    },
    {
     "name": "stdout",
     "output_type": "stream",
     "text": [
      "\tTrain Batch: 200 Loss: 0.000380\n"
     ]
    },
    {
     "name": "stdout",
     "output_type": "stream",
     "text": [
      "\tTrain Batch: 300 Loss: 0.000378\n"
     ]
    },
    {
     "name": "stdout",
     "output_type": "stream",
     "text": [
      "\tTrain Batch: 400 Loss: 0.000396\n"
     ]
    },
    {
     "name": "stdout",
     "output_type": "stream",
     "text": [
      "\tTrain Batch: 500 Loss: 0.000404\n"
     ]
    },
    {
     "name": "stdout",
     "output_type": "stream",
     "text": [
      "\tTrain Batch: 600 Loss: 0.000417\n"
     ]
    },
    {
     "name": "stdout",
     "output_type": "stream",
     "text": [
      "\tTrain Batch: 700 Loss: 0.000417\n"
     ]
    },
    {
     "name": "stdout",
     "output_type": "stream",
     "text": [
      "\tTrain Batch: 800 Loss: 0.000436\n"
     ]
    },
    {
     "name": "stdout",
     "output_type": "stream",
     "text": [
      "\tTrain Batch: 900 Loss: 0.000446\n"
     ]
    },
    {
     "name": "stdout",
     "output_type": "stream",
     "text": [
      "Train Epoch: 5 Accuracy: 99.0717% Loss: 0.000449\n",
      "\n"
     ]
    },
    {
     "name": "stdout",
     "output_type": "stream",
     "text": [
      "Test Accuracy: 99.5800, Loss: 0.000015\n",
      "\n"
     ]
    },
    {
     "name": "stdout",
     "output_type": "stream",
     "text": [
      "\tTrain Batch: 100 Loss: 0.000315\n"
     ]
    },
    {
     "name": "stdout",
     "output_type": "stream",
     "text": [
      "\tTrain Batch: 200 Loss: 0.000311\n"
     ]
    },
    {
     "name": "stdout",
     "output_type": "stream",
     "text": [
      "\tTrain Batch: 300 Loss: 0.000318\n"
     ]
    },
    {
     "name": "stdout",
     "output_type": "stream",
     "text": [
      "\tTrain Batch: 400 Loss: 0.000334\n"
     ]
    },
    {
     "name": "stdout",
     "output_type": "stream",
     "text": [
      "\tTrain Batch: 500 Loss: 0.000338\n"
     ]
    },
    {
     "name": "stdout",
     "output_type": "stream",
     "text": [
      "\tTrain Batch: 600 Loss: 0.000349\n"
     ]
    },
    {
     "name": "stdout",
     "output_type": "stream",
     "text": [
      "\tTrain Batch: 700 Loss: 0.000348\n"
     ]
    },
    {
     "name": "stdout",
     "output_type": "stream",
     "text": [
      "\tTrain Batch: 800 Loss: 0.000356\n"
     ]
    },
    {
     "name": "stdout",
     "output_type": "stream",
     "text": [
      "\tTrain Batch: 900 Loss: 0.000366\n"
     ]
    },
    {
     "name": "stdout",
     "output_type": "stream",
     "text": [
      "Train Epoch: 6 Accuracy: 99.2383% Loss: 0.000371\n",
      "\n"
     ]
    },
    {
     "name": "stdout",
     "output_type": "stream",
     "text": [
      "Test Accuracy: 99.6667, Loss: 0.000012\n",
      "\n"
     ]
    },
    {
     "name": "stdout",
     "output_type": "stream",
     "text": [
      "\tTrain Batch: 100 Loss: 0.000335\n"
     ]
    },
    {
     "name": "stdout",
     "output_type": "stream",
     "text": [
      "\tTrain Batch: 200 Loss: 0.000289\n"
     ]
    },
    {
     "name": "stdout",
     "output_type": "stream",
     "text": [
      "\tTrain Batch: 300 Loss: 0.000288\n"
     ]
    },
    {
     "name": "stdout",
     "output_type": "stream",
     "text": [
      "\tTrain Batch: 400 Loss: 0.000300\n"
     ]
    },
    {
     "name": "stdout",
     "output_type": "stream",
     "text": [
      "\tTrain Batch: 500 Loss: 0.000297\n"
     ]
    },
    {
     "name": "stdout",
     "output_type": "stream",
     "text": [
      "\tTrain Batch: 600 Loss: 0.000306\n"
     ]
    },
    {
     "name": "stdout",
     "output_type": "stream",
     "text": [
      "\tTrain Batch: 700 Loss: 0.000300\n"
     ]
    },
    {
     "name": "stdout",
     "output_type": "stream",
     "text": [
      "\tTrain Batch: 800 Loss: 0.000296\n"
     ]
    },
    {
     "name": "stdout",
     "output_type": "stream",
     "text": [
      "\tTrain Batch: 900 Loss: 0.000300\n"
     ]
    },
    {
     "name": "stdout",
     "output_type": "stream",
     "text": [
      "Train Epoch: 7 Accuracy: 99.3883% Loss: 0.000301\n",
      "\n"
     ]
    },
    {
     "name": "stdout",
     "output_type": "stream",
     "text": [
      "Test Accuracy: 99.6100, Loss: 0.000012\n",
      "\n"
     ]
    },
    {
     "name": "stdout",
     "output_type": "stream",
     "text": [
      "\tTrain Batch: 100 Loss: 0.000264\n"
     ]
    },
    {
     "name": "stdout",
     "output_type": "stream",
     "text": [
      "\tTrain Batch: 200 Loss: 0.000248\n"
     ]
    },
    {
     "name": "stdout",
     "output_type": "stream",
     "text": [
      "\tTrain Batch: 300 Loss: 0.000253\n"
     ]
    },
    {
     "name": "stdout",
     "output_type": "stream",
     "text": [
      "\tTrain Batch: 400 Loss: 0.000256\n"
     ]
    },
    {
     "name": "stdout",
     "output_type": "stream",
     "text": [
      "\tTrain Batch: 500 Loss: 0.000260\n"
     ]
    },
    {
     "name": "stdout",
     "output_type": "stream",
     "text": [
      "\tTrain Batch: 600 Loss: 0.000260\n"
     ]
    },
    {
     "name": "stdout",
     "output_type": "stream",
     "text": [
      "\tTrain Batch: 700 Loss: 0.000265\n"
     ]
    },
    {
     "name": "stdout",
     "output_type": "stream",
     "text": [
      "\tTrain Batch: 800 Loss: 0.000276\n"
     ]
    },
    {
     "name": "stdout",
     "output_type": "stream",
     "text": [
      "\tTrain Batch: 900 Loss: 0.000279\n"
     ]
    },
    {
     "name": "stdout",
     "output_type": "stream",
     "text": [
      "Train Epoch: 8 Accuracy: 99.4133% Loss: 0.000281\n",
      "\n"
     ]
    },
    {
     "name": "stdout",
     "output_type": "stream",
     "text": [
      "Test Accuracy: 99.7017, Loss: 0.000009\n",
      "\n"
     ]
    }
   ],
   "source": [
    "n_epoch=8\n",
    "test()\n",
    "for epoch in range(1, n_epoch+1):\n",
    "    train(epoch)\n",
    "    test()"
   ]
  },
  {
   "cell_type": "code",
   "execution_count": 10,
   "id": "277b42ce-fca7-4d18-a8ce-7d8f28bb3865",
   "metadata": {
    "collapsed": false
   },
   "outputs": [
    {
     "data": {
      "image/png": "[encoded data removed]",
      "text/plain": [
       "<Figure size 640x480 with 6 Axes>"
      ]
     },
     "metadata": {},
     "output_type": "display_data"
    }
   ],
   "source": [
    "import matplotlib.pyplot as plt\n",
    "\n",
    "def plotImages(n, data, targets, pred=None):\n",
    "    fig = plt.figure()\n",
    "    ncols = 3\n",
    "    nrows = n//ncols\n",
    "    for i in range(n):\n",
    "      plt.subplot(nrows, ncols,i+1)\n",
    "      plt.tight_layout()\n",
    "      plt.imshow(data[i][0], cmap='gray', interpolation='none')\n",
    "      if pred != None:\n",
    "        plt.title(\"Ground Truth: {}| Pred:{}\".format(targets[i], pred[i]))\n",
    "      else:\n",
    "        plt.title(\"Ground Truth: {}\".format(targets[i]))\n",
    "      plt.xticks([])\n",
    "      plt.yticks([])\n",
    "      fig\n",
    "\n",
    "examples = enumerate(test_loader)\n",
    "batch_idx, (example_data, example_targets) = next(examples)\n",
    "plotImages(6, example_data, example_targets)"
   ]
  },
  {
   "cell_type": "code",
   "execution_count": 12,
   "id": "d6111a30-1180-4b73-b692-914fc38122fd",
   "metadata": {
    "collapsed": false
   },
   "outputs": [],
   "source": [
    "def find_bad_samples(n):\n",
    "    network.eval() \n",
    "    count = 0\n",
    "    bad_samples = []\n",
    "    bad_samples_target = []\n",
    "    predictions = []\n",
    "    for batch_idx, (data, target) in enumerate(test_loader):\n",
    "        data = data.to(device)\n",
    "        target = target.to(device)\n",
    "        output = network(data)\n",
    "\n",
    "        pred = output.data.max(1).indices\n",
    "        idxs = pred != (target.to(device))\n",
    "        \n",
    "        bad_samples+=data[idxs].tolist()\n",
    "        bad_samples_target+=target[idxs].tolist()\n",
    "        predictions+=pred[idxs].tolist()\n",
    "        \n",
    "        count+=idxs.sum()\n",
    "        if (count >= n):\n",
    "            break\n",
    "    \n",
    "    return bad_samples, bad_samples_target, predictions\n"
   ]
  },
  {
   "cell_type": "code",
   "execution_count": 36,
   "id": "5434d216-0578-4e60-a36c-5d63b035b1aa",
   "metadata": {
    "collapsed": false
   },
   "outputs": [
    {
     "data": {
      "image/png": "[encoded data removed]",
      "text/plain": [
       "<Figure size 640x480 with 6 Axes>"
      ]
     },
     "metadata": {},
     "output_type": "display_data"
    }
   ],
   "source": [
    "n = 6\n",
    "data, targets, predictions = find_bad_samples(n)\n",
    "plotImages(n, data, targets, predictions)"
   ]
  }
 ],
 "metadata": {
  "kernelspec": {
   "argv": [
    "/opt/homebrew/opt/python@3.11/bin/python3.11",
    "-m",
    "ipykernel_launcher",
    "-f",
    "{connection_file}"
   ],
   "display_name": "Python 3 (ipykernel)",
   "env": null,
   "interrupt_mode": "signal",
   "language": "python",
   "metadata": {
    "debugger": true
   },
   "name": "python3"
  },
  "language_info": {
   "codemirror_mode": {
    "name": "ipython",
    "version": 3
   },
   "file_extension": ".py",
   "mimetype": "text/x-python",
   "name": "python",
   "nbconvert_exporter": "python",
   "pygments_lexer": "ipython3",
   "version": "3.11.2"
  },
  "name": "01 MNIST Handwriting - 04 - Patches Are All You Need.ipynb"
 },
 "nbformat": 4,
 "nbformat_minor": 5
}
