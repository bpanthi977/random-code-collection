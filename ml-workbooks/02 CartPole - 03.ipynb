{
 "cells": [
  {
   "cell_type": "code",
   "execution_count": 101,
   "id": "d75a24fb",
   "metadata": {
    "collapsed": false
   },
   "outputs": [],
   "source": [
    "# from https://gymnasium.farama.org/tutorials/training_agents/reinforce_invpend_gym_v26/\n",
    "import gymnasium as gym\n",
    "import torch \n",
    "import torch.nn as nn\n",
    "import numpy as np\n",
    "\n",
    "from torch.utils.tensorboard import SummaryWriter"
   ]
  },
  {
   "cell_type": "code",
   "execution_count": 102,
   "id": "a0d64c56",
   "metadata": {
    "collapsed": false
   },
   "outputs": [],
   "source": [
    "# env = gym.make(\"CartPole-v1\", render_mode='human')\n",
    "env = gym.make(\"CartPole-v1\")\n",
    "#%load_ext tensorboard\n",
    "#wandb.init(project=\"cartpole-v1\", entity=\"bpanthi977\")"
   ]
  },
  {
   "cell_type": "code",
   "execution_count": 103,
   "id": "e67dd8dc",
   "metadata": {
    "collapsed": false
   },
   "outputs": [],
   "source": [
    "def evaluate_agent(agent, steps=100):\n",
    "    observation, info = env.reset()\n",
    "    total_reward = 0\n",
    "    total_episodes = 0\n",
    "    for _ in range(steps):\n",
    "        action = agent.action(observation)\n",
    "        observation, reward, terminated, truncated, info = env.step(action)\n",
    "        \n",
    "        total_reward += reward\n",
    "        # env.render()\n",
    "        if terminated or truncated:\n",
    "            observation, info = env.reset()\n",
    "            total_episodes += 1\n",
    "            \n",
    "    return total_reward/total_episodes"
   ]
  },
  {
   "cell_type": "code",
   "execution_count": 178,
   "id": "e2040aeb",
   "metadata": {
    "collapsed": false
   },
   "outputs": [],
   "source": [
    "class CartPoleAgent(nn.Module):\n",
    "    def __init__(self):\n",
    "        super(CartPoleAgent, self).__init__()\n",
    "        input_dim = 4\n",
    "        out_dim = 2\n",
    "        \n",
    "        self.net = nn.Sequential(\n",
    "            nn.Linear(in_features=input_dim, out_features=512),\n",
    "            nn.ReLU(),\n",
    "            nn.Linear(in_features=512, out_features=256),\n",
    "            nn.ReLU(),\n",
    "            nn.Linear(in_features=256, out_features=128),\n",
    "            nn.ReLU(),\n",
    "            nn.Linear(in_features=128, out_features=out_dim),\n",
    "            nn.Softmax(dim=0)\n",
    "        )\n",
    "        \n",
    "    def forward(self, x):\n",
    "        return self.net(x)\n",
    "    \n",
    "    def action(self, state):\n",
    "        probs = self.forward(torch.tensor(state).to(device))\n",
    "        action = np.random.choice([0,1], p=probs.detach().cpu().numpy())\n",
    "        self.action_probs = probs\n",
    "        \n",
    "        return action\n",
    "\n",
    "device = torch.device('mps')   \n",
    "def reset_network():\n",
    "    global network, optim, total_episodes, writer\n",
    "    network = CartPoleAgent().to(device)\n",
    "    #optim = torch.optim.SGD(network.parameters())\n",
    "    optim = torch.optim.SGD(network.parameters(), lr=0.0001)\n",
    "    total_episodes = 0\n",
    "    \n",
    "    writer = SummaryWriter()\n",
    "\n",
    "reset_network()"
   ]
  },
  {
   "cell_type": "code",
   "execution_count": 164,
   "id": "0107a43b-7476-4841-97ae-e55656dbd15d",
   "metadata": {
    "collapsed": false
   },
   "outputs": [],
   "source": [
    "class EWMA():\n",
    "    \"Exponentially Weighted Moving Average\"\n",
    "    def __init__(self, alpha = 1/50):\n",
    "        self.alpha = alpha\n",
    "        self.value = False\n",
    "\n",
    "    def add(self, value):\n",
    "        if not self.value:\n",
    "            self.value = value \n",
    "        else:\n",
    "            self.value = (1 - self.alpha) * self.value + self.alpha * value\n",
    "        return self"
   ]
  },
  {
   "cell_type": "code",
   "execution_count": 179,
   "id": "2385a703",
   "metadata": {
    "collapsed": false
   },
   "outputs": [],
   "source": [
    "GAMMA=0.99\n",
    "ENTROPY_BETA=0.1\n",
    "\n",
    "def train_reinforce(steps):\n",
    "    global total_episodes\n",
    "    observation, info = env.reset(seed=42)\n",
    "    \n",
    "    total_reward = 0\n",
    "    episode_steps = 0\n",
    "    baseline = EWMA()\n",
    "    par = []\n",
    "    \n",
    "    def train(par):\n",
    "        # REINFORCE Update\n",
    "        # compute returns in backward order and compute loss\n",
    "        g_t = 0\n",
    "        loss = 0\n",
    "        for t in range(len(par)-1, -1, -1):\n",
    "            prob, action, reward = par[t]\n",
    "            g_t = reward + GAMMA * g_t\n",
    "\n",
    "            log_prob = torch.log(prob)\n",
    "            # L = - (G - baseline) ln \\pi(a)\n",
    "            loss += - (g_t - baseline.value) * log_prob[action]\n",
    "            ## L = entropy penalty\n",
    "            entropy = - (prob * log_prob).sum()         # H = - \\sum p_i log p_i\n",
    "            loss += - ENTROPY_BETA * entropy          # increase entropy \n",
    "        \n",
    "        if g_t == 0:\n",
    "            return \n",
    "\n",
    "        optim.zero_grad()\n",
    "        loss.backward()\n",
    "        optim.step()\n",
    "            \n",
    "    for step in range(steps):\n",
    "        action = network.action(observation)\n",
    "        observation, reward, terminated, truncated, info = env.step(action)\n",
    "\n",
    "        par.append([network.action_probs, action, reward])\n",
    "        \n",
    "        total_reward += reward\n",
    "        episode_steps += 1\n",
    "        if terminated or truncated:\n",
    "            train(par)\n",
    "            par = []\n",
    "            observation, info = env.reset()\n",
    "            total_episodes += 1\n",
    "            baseline.add(episode_steps)\n",
    "            writer.add_scalar(\"Episode Length / Steps \", episode_steps, step)\n",
    "            writer.add_scalar(\"MA Reward/Episode\", baseline.value, total_episodes)\n",
    "            episode_steps = 0\n",
    "\n",
    "            if (total_episodes % 100 == 0):\n",
    "                print('Av. steps/ episode', baseline.value)\n",
    "    train(par)\n",
    "            \n",
    "    avg_reward = total_reward/total_episodes\n",
    "    writer.add_hparams({'entropy': ENTROPY_BETA, 'gamma': GAMMA, 'baseline': True, 'total_steps': steps}, {'avg_reward': avg_reward})\n",
    "    return avg_reward"
   ]
  },
  {
   "cell_type": "code",
   "execution_count": 181,
   "id": "a7ce1f3f-3b64-405b-8dcb-6b76bbfb5876",
   "metadata": {
    "collapsed": false
   },
   "outputs": [
    {
     "name": "stdout",
     "output_type": "stream",
     "text": [
      "Av. steps/ episode 21.422211589952298\n"
     ]
    },
    {
     "name": "stdout",
     "output_type": "stream",
     "text": [
      "Av. steps/ episode 25.723585123065973\n"
     ]
    },
    {
     "name": "stdout",
     "output_type": "stream",
     "text": [
      "Av. steps/ episode 41.164534256292896\n"
     ]
    },
    {
     "name": "stdout",
     "output_type": "stream",
     "text": [
      "Av. steps/ episode 55.03712726831607\n"
     ]
    },
    {
     "name": "stdout",
     "output_type": "stream",
     "text": [
      "Av. steps/ episode 27.758539751422678\n"
     ]
    },
    {
     "name": "stdout",
     "output_type": "stream",
     "text": [
      "Av. steps/ episode 11.778087004417475\n"
     ]
    },
    {
     "name": "stdout",
     "output_type": "stream",
     "text": [
      "Av. steps/ episode 9.767475182027194\n"
     ]
    },
    {
     "name": "stdout",
     "output_type": "stream",
     "text": [
      "Av. steps/ episode 9.503231438290184\n"
     ]
    },
    {
     "name": "stdout",
     "output_type": "stream",
     "text": [
      "Av. steps/ episode 9.389021295950377\n"
     ]
    },
    {
     "name": "stdout",
     "output_type": "stream",
     "text": [
      "Av. steps/ episode 9.3269047301868\n"
     ]
    },
    {
     "name": "stdout",
     "output_type": "stream",
     "text": [
      "Av. steps/ episode 9.48262160673763\n"
     ]
    },
    {
     "name": "stdout",
     "output_type": "stream",
     "text": [
      "Av. steps/ episode 9.414248087114764\n"
     ]
    },
    {
     "name": "stdout",
     "output_type": "stream",
     "text": [
      "Av. steps/ episode 9.604437097812013\n"
     ]
    },
    {
     "name": "stdout",
     "output_type": "stream",
     "text": [
      "Av. steps/ episode 9.554861287193866\n"
     ]
    },
    {
     "name": "stdout",
     "output_type": "stream",
     "text": [
      "Av. steps/ episode 9.418739545345666\n"
     ]
    },
    {
     "name": "stdout",
     "output_type": "stream",
     "text": [
      "Av. steps/ episode 9.413979195297218\n"
     ]
    },
    {
     "name": "stdout",
     "output_type": "stream",
     "text": [
      "Av. steps/ episode 9.658716451837256\n"
     ]
    },
    {
     "name": "stdout",
     "output_type": "stream",
     "text": [
      "Av. steps/ episode 9.413804322868359\n"
     ]
    },
    {
     "name": "stdout",
     "output_type": "stream",
     "text": [
      "Av. steps/ episode 9.597936635174708\n"
     ]
    },
    {
     "name": "stdout",
     "output_type": "stream",
     "text": [
      "Av. steps/ episode 9.429895992016784\n"
     ]
    },
    {
     "name": "stdout",
     "output_type": "stream",
     "text": [
      "Av. steps/ episode 9.737229458112305\n"
     ]
    },
    {
     "name": "stdout",
     "output_type": "stream",
     "text": [
      "Av. steps/ episode 10.50744486769525\n"
     ]
    },
    {
     "name": "stdout",
     "output_type": "stream",
     "text": [
      "Av. steps/ episode 44.417686509719694\n"
     ]
    },
    {
     "name": "stdout",
     "output_type": "stream",
     "text": [
      "Av. steps/ episode 38.68396447797985\n"
     ]
    },
    {
     "name": "stdout",
     "output_type": "stream",
     "text": [
      "Av. steps/ episode 74.3596889048958\n"
     ]
    },
    {
     "name": "stdout",
     "output_type": "stream",
     "text": [
      "Av. steps/ episode 55.43116737178317\n"
     ]
    },
    {
     "name": "stdout",
     "output_type": "stream",
     "text": [
      "Av. steps/ episode 57.73126043822206\n"
     ]
    },
    {
     "name": "stdout",
     "output_type": "stream",
     "text": [
      "Av. steps/ episode 31.143399952732878\n"
     ]
    },
    {
     "name": "stdout",
     "output_type": "stream",
     "text": [
      "Av. steps/ episode 62.84849757066339\n"
     ]
    },
    {
     "name": "stdout",
     "output_type": "stream",
     "text": [
      "Av. steps/ episode 39.018055940284306\n"
     ]
    },
    {
     "name": "stdout",
     "output_type": "stream",
     "text": [
      "Av. steps/ episode 61.60243274504789\n"
     ]
    },
    {
     "name": "stdout",
     "output_type": "stream",
     "text": [
      "Av. steps/ episode 29.209824588508692\n"
     ]
    },
    {
     "name": "stdout",
     "output_type": "stream",
     "text": [
      "Av. steps/ episode 12.532981222418352\n"
     ]
    },
    {
     "name": "stdout",
     "output_type": "stream",
     "text": [
      "Av. steps/ episode 10.009893580818218\n"
     ]
    },
    {
     "name": "stdout",
     "output_type": "stream",
     "text": [
      "Av. steps/ episode 9.584829187254952\n"
     ]
    },
    {
     "name": "stdout",
     "output_type": "stream",
     "text": [
      "Av. steps/ episode 9.61403473068894\n"
     ]
    },
    {
     "name": "stdout",
     "output_type": "stream",
     "text": [
      "Av. steps/ episode 10.564195013611466\n"
     ]
    },
    {
     "name": "stdout",
     "output_type": "stream",
     "text": [
      "Av. steps/ episode 12.815117295262002\n"
     ]
    },
    {
     "name": "stdout",
     "output_type": "stream",
     "text": [
      "Av. steps/ episode 15.077055259568121\n"
     ]
    },
    {
     "name": "stdout",
     "output_type": "stream",
     "text": [
      "Av. steps/ episode 18.716096489007597\n"
     ]
    },
    {
     "name": "stdout",
     "output_type": "stream",
     "text": [
      "Av. steps/ episode 24.445744663772615\n"
     ]
    },
    {
     "name": "stdout",
     "output_type": "stream",
     "text": [
      "Av. steps/ episode 41.2170636003365\n"
     ]
    },
    {
     "data": {
      "text/plain": [
       "23.646252069047055"
      ]
     },
     "execution_count": 181,
     "metadata": {},
     "output_type": "execute_result"
    }
   ],
   "source": [
    "reset_network()\n",
    "ENTROPY_BETA = 0.2\n",
    "train_reinforce(100_000)"
   ]
  },
  {
   "cell_type": "code",
   "execution_count": 183,
   "id": "82912360-c4b1-4df2-93c3-cf6f9453bfe5",
   "metadata": {
    "collapsed": false
   },
   "outputs": [
    {
     "name": "stdout",
     "output_type": "stream",
     "text": [
      "Av. steps/ episode 20.39287883831354\n"
     ]
    },
    {
     "name": "stdout",
     "output_type": "stream",
     "text": [
      "Av. steps/ episode 25.849196216984986\n"
     ]
    },
    {
     "name": "stdout",
     "output_type": "stream",
     "text": [
      "Av. steps/ episode 36.109600074203435\n"
     ]
    },
    {
     "name": "stdout",
     "output_type": "stream",
     "text": [
      "Av. steps/ episode 52.44949145905201\n"
     ]
    },
    {
     "name": "stdout",
     "output_type": "stream",
     "text": [
      "Av. steps/ episode 34.69604690526616\n"
     ]
    }
   ],
   "source": [
    "for beta in [0]:\n",
    "    reset_network()\n",
    "    ENTROPY_BETA = beta \n",
    "    train_reinforce(20_000)"
   ]
  },
  {
   "cell_type": "code",
   "execution_count": 170,
   "id": "d6703812-389c-4bea-ad71-5616b7d2d973",
   "metadata": {
    "collapsed": false
   },
   "outputs": [
    {
     "data": {
      "text/plain": [
       "34.48275862068966"
      ]
     },
     "execution_count": 170,
     "metadata": {},
     "output_type": "execute_result"
    }
   ],
   "source": [
    "evaluate_agent(network, 1_000)"
   ]
  }
 ],
 "metadata": {
  "kernelspec": {
   "argv": [
    "/opt/homebrew/opt/python@3.11/bin/python3.11",
    "-m",
    "ipykernel_launcher",
    "-f",
    "{connection_file}"
   ],
   "display_name": "Python 3 (ipykernel)",
   "env": null,
   "interrupt_mode": "signal",
   "language": "python",
   "metadata": {
    "debugger": true
   },
   "name": "python3"
  },
  "language_info": {
   "codemirror_mode": {
    "name": "ipython",
    "version": 3
   },
   "file_extension": ".py",
   "mimetype": "text/x-python",
   "name": "python",
   "nbconvert_exporter": "python",
   "pygments_lexer": "ipython3",
   "version": "3.11.3"
  },
  "name": "02 CartPole - 03.ipynb"
 },
 "nbformat": 4,
 "nbformat_minor": 5
}
