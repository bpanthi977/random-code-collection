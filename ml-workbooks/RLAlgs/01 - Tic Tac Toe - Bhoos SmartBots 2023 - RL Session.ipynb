{
  "nbformat": 4,
  "nbformat_minor": 0,
  "metadata": {
    "colab": {
      "provenance": []
    },
    "kernelspec": {
      "name": "python3",
      "display_name": "Python 3"
    },
    "language_info": {
      "name": "python"
    }
  },
  "cells": [
    {
      "cell_type": "code",
      "execution_count": null,
      "metadata": {
        "id": "y7m7TAm9eJMI"
      },
      "outputs": [],
      "source": [
        "import numpy as np\n",
        "import gym\n",
        "from gym import spaces\n",
        "\n",
        "\n",
        "BOARD_ROWS = 3\n",
        "BOARD_COLS = 3"
      ]
    },
    {
      "cell_type": "code",
      "source": [
        "class TicTacToe(gym.Env):\n",
        "    def __init__(self, p1, p2):\n",
        "        self.observation_space = spaces.Discrete(BOARD_COLS*BOARD_ROWS)  # can also be configuration of the board - large\n",
        "        self.action_space = spaces.Discrete(BOARD_COLS*BOARD_ROWS)\n",
        "        self.board = np.zeros((BOARD_COLS, BOARD_ROWS))\n",
        "        self.p1 = p1\n",
        "        self.p2 = p2\n",
        "        self.done = False\n",
        "        self.reset()\n",
        "        self.player_symbols = {1: \"Player 1\", -1: \"Player 2\", 0:\"Tie\"}\n",
        "        self.current_player = self.p1.symbol = 1  # first player\n",
        "        self.p2.symbol = -1\n",
        "\n",
        "    def reset(self):\n",
        "        self.board = np.zeros((BOARD_COLS, BOARD_ROWS))\n",
        "        self.done = False\n",
        "        self.current_player = 1\n",
        "        return self.board\n",
        "    \n",
        "    def available_positions(self):\n",
        "        return list(zip(*np.where(self.board == 0)))\n",
        "\n",
        "    def update_state(self, position):\n",
        "        self.board[position] = self.current_player\n",
        "        self.current_player  = -self.current_player\n",
        "\n",
        "    def check_game_status(self):\n",
        "        vertical = np.sum(self.board, 0)\n",
        "        horizontal = np.sum(self.board, 1)\n",
        "        diag = np.sum(np.diag(self.board))\n",
        "        antidiag = np.sum(np.diag(np.fliplr(self.board)))\n",
        "\n",
        "        if any(vertical == 3) or any(horizontal==3) or diag==3 or antidiag==3 : \n",
        "            self.done = True\n",
        "            return 1\n",
        "        \n",
        "        if any(vertical == -3) or any(horizontal==-3)or diag==-3 or antidiag==-3: \n",
        "            self.done = True\n",
        "            return -1\n",
        "\n",
        "        if np.all(self.board):  # if board is filled\n",
        "            self.done = True\n",
        "            return 0  # tie\n",
        "        \n",
        "        self.done = False\n",
        "        return None\n",
        "\n",
        "    def step(self, action):\n",
        "        if self.done:\n",
        "            return self.board, 0 , True, None\n",
        "        \n",
        "        self.update_state(action)\n",
        "        status = self.check_game_status()\n",
        "        if status is not None:\n",
        "            reward = status\n",
        "            info = {\"result\": self.player_symbols[status]}\n",
        "            return self.board, reward, self.done, info\n",
        "        \n",
        "        return self.board, None, self.done, None\n",
        "        \n",
        "    def render(self, mode=\"human\"):\n",
        "        for i in range(0, BOARD_ROWS):\n",
        "            print('-------------')\n",
        "            out = '| '\n",
        "            for j in range(0, BOARD_COLS):\n",
        "                token = ''\n",
        "                if self.board[i, j] == 1:\n",
        "                    token = 'x'\n",
        "                if self.board[i, j] == -1:\n",
        "                    token = 'o'\n",
        "                if self.board[i, j] == 0:\n",
        "                    token = ' '\n",
        "                out += token + ' | '\n",
        "            print(out)\n",
        "\n",
        "        print('-------------')\n",
        "                "
      ],
      "metadata": {
        "id": "xSmGvACreWNq"
      },
      "execution_count": null,
      "outputs": []
    },
    {
      "cell_type": "code",
      "source": [
        "class Player:\n",
        "    def __init__(self, name):\n",
        "        self.name = name\n",
        "        self.symbol = 1 # modified when assigned to the game\n",
        "    \n",
        "    def act(self, positions, board=None):\n",
        "        idx = np.random.choice(len(positions))\n",
        "        return positions[idx]"
      ],
      "metadata": {
        "id": "bextdQKv_rUz"
      },
      "execution_count": null,
      "outputs": []
    },
    {
      "cell_type": "code",
      "source": [
        "class HumanPlayer(Player):\n",
        "    def act(self, positions, current_board=None):\n",
        "        while True:\n",
        "            matrix = {1: (0, 0), 2: (0, 1), 3: (0, 2),\n",
        "                      4: (1, 0), 5: (1, 1), 6: (1, 2),\n",
        "                      7: (2, 0), 8: (2, 1), 9: (2, 2)}\n",
        "            user_input = int(input(\"Input your action 1-9:\"))\n",
        "            pos = matrix[user_input]\n",
        "            if pos in positions:\n",
        "                return pos"
      ],
      "metadata": {
        "id": "XVXeyH2pxdAH"
      },
      "execution_count": null,
      "outputs": []
    },
    {
      "cell_type": "code",
      "source": [
        "def play(P1, P2, render=False):\n",
        "    agents = [P1, P2]\n",
        "    env = TicTacToe(*agents)\n",
        "    env.reset()\n",
        "    if render: env.render()\n",
        "    \n",
        "    while not env.done:\n",
        "        for agent in agents:\n",
        "            action = agent.act(env.available_positions(), env.board)\n",
        "            state, reward, done, info = env.step(action)\n",
        "            if render: \n",
        "                print(\"place \", action)\n",
        "                env.render()\n",
        "            if done:\n",
        "                if render: \n",
        "                    print(info['result'])\n",
        "                return reward\n",
        "\n",
        "\n",
        "play(Player(\"P1\"), HumanPlayer(\"P2\"), True)"
      ],
      "metadata": {
        "colab": {
          "base_uri": "https://localhost:8080/"
        },
        "id": "Hc--0AvaPCX6",
        "outputId": "793d1f93-f91d-4cba-b360-ad0ede4c08ce"
      },
      "execution_count": null,
      "outputs": [
        {
          "output_type": "stream",
          "name": "stdout",
          "text": [
            "-------------\n",
            "|   |   |   | \n",
            "-------------\n",
            "|   |   |   | \n",
            "-------------\n",
            "|   |   |   | \n",
            "-------------\n",
            "place  (0, 2)\n",
            "-------------\n",
            "|   |   | x | \n",
            "-------------\n",
            "|   |   |   | \n",
            "-------------\n",
            "|   |   |   | \n",
            "-------------\n",
            "Input your action 1-9:1\n",
            "place  (0, 0)\n",
            "-------------\n",
            "| o |   | x | \n",
            "-------------\n",
            "|   |   |   | \n",
            "-------------\n",
            "|   |   |   | \n",
            "-------------\n",
            "place  (2, 1)\n",
            "-------------\n",
            "| o |   | x | \n",
            "-------------\n",
            "|   |   |   | \n",
            "-------------\n",
            "|   | x |   | \n",
            "-------------\n",
            "Input your action 1-9:4\n",
            "place  (1, 0)\n",
            "-------------\n",
            "| o |   | x | \n",
            "-------------\n",
            "| o |   |   | \n",
            "-------------\n",
            "|   | x |   | \n",
            "-------------\n",
            "place  (1, 2)\n",
            "-------------\n",
            "| o |   | x | \n",
            "-------------\n",
            "| o |   | x | \n",
            "-------------\n",
            "|   | x |   | \n",
            "-------------\n",
            "Input your action 1-9:7\n",
            "place  (2, 0)\n",
            "-------------\n",
            "| o |   | x | \n",
            "-------------\n",
            "| o |   | x | \n",
            "-------------\n",
            "| o | x |   | \n",
            "-------------\n",
            "Player 2\n"
          ]
        },
        {
          "output_type": "execute_result",
          "data": {
            "text/plain": [
              "-1"
            ]
          },
          "metadata": {},
          "execution_count": 9
        }
      ]
    },
    {
      "cell_type": "code",
      "source": [
        "import matplotlib.pyplot as plt\n",
        "\n",
        "def win_stats(P1,P2, n=10000):\n",
        "    print(f\"Playing {n} games\")\n",
        "    game_stats = [play(P1,P2) for i in range(n)]\n",
        "    \n",
        "    print(\"P1 Wins: \",game_stats.count(1))\n",
        "    print(\"P2 Wins: \",game_stats.count(-1))\n",
        "    print(\"Ties: \",game_stats.count(0))\n",
        "\n",
        "\n",
        "win_stats(Player(\"P1\"), Player(\"P2\"))"
      ],
      "metadata": {
        "colab": {
          "base_uri": "https://localhost:8080/"
        },
        "id": "V-UoyOIxSCV-",
        "outputId": "ac57f4f9-7d86-4cfb-f12e-3cc86a742dd1"
      },
      "execution_count": null,
      "outputs": [
        {
          "output_type": "stream",
          "name": "stdout",
          "text": [
            "Playing 10000 games\n",
            "P1 Wins:  5767\n",
            "P2 Wins:  2966\n",
            "Ties:  1267\n"
          ]
        }
      ]
    },
    {
      "cell_type": "code",
      "source": [
        "import pickle\n",
        "\n",
        "class QAgent(Player):\n",
        "    def __init__(self, name, policy=None):\n",
        "        self.name = name\n",
        "        self.symbol = 1 \n",
        "        self.α = .2\n",
        "        self.γ = .9\n",
        "        self.ϵ = .3 \n",
        "        self.states = []  # save all taken positions\n",
        "        self.Q_value = {} # {state-action: values}}, generated/initialized on the fly\n",
        "        if policy is not None:\n",
        "            with open(policy, 'rb') as fr:\n",
        "                self.Q_value = pickle.load(fr)\n",
        "\n",
        "    def add_state(self, state):\n",
        "        self.states.append(state)\n",
        "    \n",
        "    def reset(self):\n",
        "        self.states = []\n",
        "\n",
        "    def board2vec(self, board):\n",
        "        return str(board.reshape(BOARD_COLS * BOARD_ROWS))\n",
        "        \n",
        "\n",
        "    def max_q(self, board, positions):\n",
        "        action = None\n",
        "        # Initialize Q\n",
        "        value_max = -999 \n",
        "        # choose Actions from Q \n",
        "        for p in positions:\n",
        "            next_board = board.copy()\n",
        "            next_board[p] = self.symbol\n",
        "            next_board_vector = self.board2vec(next_board)\n",
        "            action_value = 0 if self.Q_value.get(next_board_vector) is None else self.Q_value.get(next_board_vector)\n",
        "            if action_value >= value_max:\n",
        "                value_max = action_value\n",
        "                action = p\n",
        "        return action\n",
        "\n",
        "    \n",
        "    def act(self, positions, current_board):\n",
        "        if np.random.uniform(0,1) <= self.ϵ:               # Explore\n",
        "            idx = np.random.choice(len(positions))\n",
        "            action = positions[idx]\n",
        "        else:\n",
        "            action = self.max_q(current_board, positions)  # Exploit\n",
        "        return action\n",
        "\n",
        "\n",
        "    # at the end of game, backpropagate and update states value\n",
        "    def feed_reward(self, reward):\n",
        "        for st in reversed(self.states):\n",
        "            if self.Q_value.get(st) is None:\n",
        "                self.Q_value[st] = 0\n",
        "            self.Q_value[st] += self.α * (self.γ * reward - self.Q_value[st])\n",
        "            reward = self.Q_value[st]\n",
        "\n",
        "\n",
        "    def save_policy(self):\n",
        "        with open('policy_' + str(self.name), 'wb') as fw:\n",
        "            pickle.dump(self.Q_value, fw)\n",
        "\n",
        "    \n",
        "    def load_policy(self, file):\n",
        "        with open(file, 'rb') as fr:\n",
        "            self.Q_value = pickle.load(fr)\n",
        "\n"
      ],
      "metadata": {
        "id": "bCfb60uICjc5"
      },
      "execution_count": null,
      "outputs": []
    },
    {
      "cell_type": "code",
      "source": [
        "def train(n_episodes=10000):\n",
        "    p1 = QAgent(\"p1\")\n",
        "    p2 = QAgent(\"p2\")\n",
        "    agents = [p1, p2]\n",
        "    env = TicTacToe(p1, p2)\n",
        "    for i in range(n_episodes):\n",
        "        if i % 1000 == 0:\n",
        "            print(\"Episode {}\".format(i))\n",
        "        env.reset()\n",
        "        done = False\n",
        "        while not done:\n",
        "            for agent in agents:\n",
        "                if not done:\n",
        "                    action = agent.act(env.available_positions(), env.board)\n",
        "                    state, reward, done, info = env.step(action)\n",
        "                    agent.add_state(agent.board2vec(state))\n",
        "                    if done:\n",
        "                        if reward == 1:\n",
        "                            p1.feed_reward(1)\n",
        "                            p2.feed_reward(0)\n",
        "                        elif reward == -1:\n",
        "                            p1.feed_reward(0)\n",
        "                            p2.feed_reward(1)\n",
        "                        else:\n",
        "                            p1.feed_reward(.1)\n",
        "                            p2.feed_reward(.5)\n",
        "                        p1.reset()\n",
        "                        p2.reset()\n",
        "        env.reset()\n",
        "    p1.save_policy()\n",
        "    p2.save_policy()\n",
        "\n",
        "train(100000)"
      ],
      "metadata": {
        "colab": {
          "base_uri": "https://localhost:8080/"
        },
        "id": "dYUtID2LFX11",
        "outputId": "2a64ee1b-5fd1-42f3-aa12-261f176b4643"
      },
      "execution_count": null,
      "outputs": [
        {
          "output_type": "stream",
          "name": "stdout",
          "text": [
            "Episode 0\n",
            "Episode 1000\n",
            "Episode 2000\n",
            "Episode 3000\n",
            "Episode 4000\n",
            "Episode 5000\n",
            "Episode 6000\n",
            "Episode 7000\n",
            "Episode 8000\n",
            "Episode 9000\n",
            "Episode 10000\n",
            "Episode 11000\n",
            "Episode 12000\n",
            "Episode 13000\n",
            "Episode 14000\n",
            "Episode 15000\n",
            "Episode 16000\n",
            "Episode 17000\n",
            "Episode 18000\n",
            "Episode 19000\n",
            "Episode 20000\n",
            "Episode 21000\n",
            "Episode 22000\n",
            "Episode 23000\n",
            "Episode 24000\n",
            "Episode 25000\n",
            "Episode 26000\n",
            "Episode 27000\n",
            "Episode 28000\n",
            "Episode 29000\n",
            "Episode 30000\n",
            "Episode 31000\n",
            "Episode 32000\n",
            "Episode 33000\n",
            "Episode 34000\n",
            "Episode 35000\n",
            "Episode 36000\n",
            "Episode 37000\n",
            "Episode 38000\n",
            "Episode 39000\n",
            "Episode 40000\n",
            "Episode 41000\n",
            "Episode 42000\n",
            "Episode 43000\n",
            "Episode 44000\n",
            "Episode 45000\n",
            "Episode 46000\n",
            "Episode 47000\n",
            "Episode 48000\n",
            "Episode 49000\n",
            "Episode 50000\n",
            "Episode 51000\n",
            "Episode 52000\n",
            "Episode 53000\n",
            "Episode 54000\n",
            "Episode 55000\n",
            "Episode 56000\n",
            "Episode 57000\n",
            "Episode 58000\n",
            "Episode 59000\n",
            "Episode 60000\n",
            "Episode 61000\n",
            "Episode 62000\n",
            "Episode 63000\n",
            "Episode 64000\n",
            "Episode 65000\n",
            "Episode 66000\n",
            "Episode 67000\n",
            "Episode 68000\n",
            "Episode 69000\n",
            "Episode 70000\n",
            "Episode 71000\n",
            "Episode 72000\n",
            "Episode 73000\n",
            "Episode 74000\n",
            "Episode 75000\n",
            "Episode 76000\n",
            "Episode 77000\n",
            "Episode 78000\n",
            "Episode 79000\n",
            "Episode 80000\n",
            "Episode 81000\n",
            "Episode 82000\n",
            "Episode 83000\n",
            "Episode 84000\n",
            "Episode 85000\n",
            "Episode 86000\n",
            "Episode 87000\n",
            "Episode 88000\n",
            "Episode 89000\n",
            "Episode 90000\n",
            "Episode 91000\n",
            "Episode 92000\n",
            "Episode 93000\n",
            "Episode 94000\n",
            "Episode 95000\n",
            "Episode 96000\n",
            "Episode 97000\n",
            "Episode 98000\n",
            "Episode 99000\n"
          ]
        }
      ]
    },
    {
      "cell_type": "code",
      "source": [
        "play(QAgent(\"p1\",policy='policy_p1'),Player(\"P2\"),True)"
      ],
      "metadata": {
        "colab": {
          "base_uri": "https://localhost:8080/"
        },
        "id": "TiEQAUzHWli7",
        "outputId": "31f566a7-93c7-4502-8896-4606896ce7e0"
      },
      "execution_count": null,
      "outputs": [
        {
          "output_type": "stream",
          "name": "stdout",
          "text": [
            "-------------\n",
            "|   |   |   | \n",
            "-------------\n",
            "|   |   |   | \n",
            "-------------\n",
            "|   |   |   | \n",
            "-------------\n",
            "place  (2, 0)\n",
            "-------------\n",
            "|   |   |   | \n",
            "-------------\n",
            "|   |   |   | \n",
            "-------------\n",
            "| x |   |   | \n",
            "-------------\n",
            "place  (1, 1)\n",
            "-------------\n",
            "|   |   |   | \n",
            "-------------\n",
            "|   | o |   | \n",
            "-------------\n",
            "| x |   |   | \n",
            "-------------\n",
            "place  (1, 0)\n",
            "-------------\n",
            "|   |   |   | \n",
            "-------------\n",
            "| x | o |   | \n",
            "-------------\n",
            "| x |   |   | \n",
            "-------------\n",
            "place  (0, 2)\n",
            "-------------\n",
            "|   |   | o | \n",
            "-------------\n",
            "| x | o |   | \n",
            "-------------\n",
            "| x |   |   | \n",
            "-------------\n",
            "place  (2, 2)\n",
            "-------------\n",
            "|   |   | o | \n",
            "-------------\n",
            "| x | o |   | \n",
            "-------------\n",
            "| x |   | x | \n",
            "-------------\n",
            "place  (1, 2)\n",
            "-------------\n",
            "|   |   | o | \n",
            "-------------\n",
            "| x | o | o | \n",
            "-------------\n",
            "| x |   | x | \n",
            "-------------\n",
            "place  (0, 0)\n",
            "-------------\n",
            "| x |   | o | \n",
            "-------------\n",
            "| x | o | o | \n",
            "-------------\n",
            "| x |   | x | \n",
            "-------------\n",
            "Player 1\n"
          ]
        },
        {
          "output_type": "execute_result",
          "data": {
            "text/plain": [
              "1"
            ]
          },
          "metadata": {},
          "execution_count": 14
        }
      ]
    },
    {
      "cell_type": "code",
      "source": [
        "P1 = QAgent(\"p1\",policy='policy_p1')\n",
        "P2 = Player(\"P2\")\n",
        "\n",
        "win_stats(P1,P2, n=1000)"
      ],
      "metadata": {
        "colab": {
          "base_uri": "https://localhost:8080/"
        },
        "id": "CBd4Jd1mXAKN",
        "outputId": "e0209d5e-f7e2-4672-84c7-5a33b1f5afa4"
      },
      "execution_count": null,
      "outputs": [
        {
          "output_type": "stream",
          "name": "stdout",
          "text": [
            "Playing 5000 games\n",
            "P1 Wins:  4540\n",
            "P2 Wins:  268\n",
            "Ties:  192\n"
          ]
        }
      ]
    },
    {
      "cell_type": "code",
      "source": [
        "P1 = Player(\"P1\")\n",
        "P2 = QAgent(\"p2\",policy='policy_p2')\n",
        "\n",
        "win_stats(P1, P2, n=5000)"
      ],
      "metadata": {
        "colab": {
          "base_uri": "https://localhost:8080/"
        },
        "id": "ygh0vIuwXObN",
        "outputId": "b655e287-adf3-482e-fb54-44bb372d4950"
      },
      "execution_count": null,
      "outputs": [
        {
          "output_type": "stream",
          "name": "stdout",
          "text": [
            "Playing 5000 games\n",
            "P1 Wins:  715\n",
            "P2 Wins:  3605\n",
            "Ties:  680\n"
          ]
        }
      ]
    },
    {
      "cell_type": "code",
      "source": [
        "play(HumanPlayer(\"P1\"), Player(\"P2\"),True)"
      ],
      "metadata": {
        "colab": {
          "base_uri": "https://localhost:8080/"
        },
        "id": "-99Dh1abLlpb",
        "outputId": "6356cb86-831c-45ff-daf3-02649ad0f7f3"
      },
      "execution_count": null,
      "outputs": [
        {
          "output_type": "stream",
          "name": "stdout",
          "text": [
            "-------------\n",
            "|   |   |   | \n",
            "-------------\n",
            "|   |   |   | \n",
            "-------------\n",
            "|   |   |   | \n",
            "-------------\n",
            "Input your action 1-9:1\n",
            "place  (0, 0)\n",
            "-------------\n",
            "| x |   |   | \n",
            "-------------\n",
            "|   |   |   | \n",
            "-------------\n",
            "|   |   |   | \n",
            "-------------\n",
            "place  (0, 1)\n",
            "-------------\n",
            "| x | o |   | \n",
            "-------------\n",
            "|   |   |   | \n",
            "-------------\n",
            "|   |   |   | \n",
            "-------------\n",
            "Input your action 1-9:5\n",
            "place  (1, 1)\n",
            "-------------\n",
            "| x | o |   | \n",
            "-------------\n",
            "|   | x |   | \n",
            "-------------\n",
            "|   |   |   | \n",
            "-------------\n",
            "place  (1, 0)\n",
            "-------------\n",
            "| x | o |   | \n",
            "-------------\n",
            "| o | x |   | \n",
            "-------------\n",
            "|   |   |   | \n",
            "-------------\n",
            "Input your action 1-9:9\n",
            "place  (2, 2)\n",
            "-------------\n",
            "| x | o |   | \n",
            "-------------\n",
            "| o | x |   | \n",
            "-------------\n",
            "|   |   | x | \n",
            "-------------\n",
            "Player 1\n"
          ]
        },
        {
          "output_type": "execute_result",
          "data": {
            "text/plain": [
              "1"
            ]
          },
          "metadata": {},
          "execution_count": 13
        }
      ]
    },
    {
      "cell_type": "code",
      "source": [],
      "metadata": {
        "id": "3kePE5IvMtbF"
      },
      "execution_count": null,
      "outputs": []
    }
  ]
}