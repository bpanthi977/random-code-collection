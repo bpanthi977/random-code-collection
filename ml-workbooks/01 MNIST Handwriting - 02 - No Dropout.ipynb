{
 "cells": [
  {
   "cell_type": "code",
   "execution_count": null,
   "id": "2b39f3d4-01fd-4a36-99cd-7d6806bc7487",
   "metadata": {
    "collapsed": false
   },
   "outputs": [],
   "source": [
    "# From https://nextjournal.com/gkoehler/pytorch-mnist"
   ]
  },
  {
   "cell_type": "code",
   "execution_count": 2,
   "id": "a4f1a29d-80b0-4878-8fe2-411bcab99081",
   "metadata": {
    "collapsed": false,
    "tags": []
   },
   "outputs": [],
   "source": [
    "import torch\n",
    "import torchvision\n",
    "import torchvision.transforms as transforms\n",
    "import torch.nn as nn \n",
    "import torch.nn.functional as F\n",
    "import torch.optim as optim\n",
    "import numpy as np "
   ]
  },
  {
   "cell_type": "code",
   "execution_count": 3,
   "id": "595d40ad-e5fe-4520-9b8f-10e873f7c723",
   "metadata": {
    "collapsed": false,
    "tags": []
   },
   "outputs": [],
   "source": [
    "device = torch.device('mps')\n",
    "\n",
    "transform = transforms.Compose([\n",
    "        transforms.ToTensor()\n",
    "    ])\n",
    "\n",
    "train_dataset = torchvision.datasets.MNIST(\n",
    "    '~/ML/data/', \n",
    "    train=True, \n",
    "    download=True,\n",
    "    transform=transform,\n",
    ")\n",
    "train_dataset.data.to(device)\n",
    "train_dataset.targets.to(device)\n",
    "\n",
    "\n",
    "test_dataset = torchvision.datasets.MNIST(\n",
    "    '~/ML/data/',\n",
    "    train=False,\n",
    "    download=True,\n",
    "    transform=transform\n",
    ")\n",
    "test_dataset.data.to(device)\n",
    "test_dataset.targets.to(device)\n",
    "\n",
    "train_loader = torch.utils.data.DataLoader(\n",
    "    train_dataset, batch_size=64, shuffle=True\n",
    ")\n",
    "\n",
    "test_loader = torch.utils.data.DataLoader(\n",
    "    train_dataset, batch_size=1024, shuffle=True \n",
    ")"
   ]
  },
  {
   "cell_type": "code",
   "execution_count": 12,
   "id": "2b76fb0d",
   "metadata": {
    "collapsed": false
   },
   "outputs": [],
   "source": [
    "examples = enumerate(test_loader)\n",
    "batch_idx, (example_data, example_targets) = next(examples)\n"
   ]
  },
  {
   "cell_type": "code",
   "execution_count": 15,
   "id": "81134efe",
   "metadata": {
    "collapsed": false,
    "scrolled": true
   },
   "outputs": [
    {
     "data": {
      "image/png": "[encoded data removed]",
      "text/plain": [
       "<Figure size 640x480 with 6 Axes>"
      ]
     },
     "metadata": {},
     "output_type": "display_data"
    }
   ],
   "source": [
    "import matplotlib.pyplot as plt\n",
    "\n",
    "def plotImages(n, data, targets, pred=None):\n",
    "    fig = plt.figure()\n",
    "    ncols = 3\n",
    "    nrows = n//ncols\n",
    "    for i in range(n):\n",
    "      plt.subplot(nrows, ncols,i+1)\n",
    "      plt.tight_layout()\n",
    "      plt.imshow(data[i][0], cmap='gray', interpolation='none')\n",
    "      if pred != None:\n",
    "        plt.title(\"Ground Truth: {}| Pred:{}\".format(targets[i], pred[i]))\n",
    "      else:\n",
    "        plt.title(\"Ground Truth: {}\".format(targets[i]))\n",
    "      plt.xticks([])\n",
    "      plt.yticks([])\n",
    "      fig\n",
    "    \n",
    "plotImages(6, example_data, example_targets)"
   ]
  },
  {
   "cell_type": "code",
   "execution_count": 9,
   "id": "7e7e726e",
   "metadata": {
    "collapsed": false
   },
   "outputs": [],
   "source": [
    "class MNISTNet(nn.Module):\n",
    "    def __init__(self):\n",
    "        super(MNISTNet, self).__init__()\n",
    "        input_dim = 28\n",
    "        kernel_size = 5\n",
    "        last_conv_out = (input_dim - kernel_size + 1)/2 \n",
    "        self.net = nn.Sequential(\n",
    "            nn.Conv2d(in_channels=1, out_channels=10, kernel_size=5),\n",
    "            nn.MaxPool2d(kernel_size=2),\n",
    "            nn.Flatten(),\n",
    "            nn.Linear(in_features=int(pow(last_conv_out,2)*10), out_features=50, bias=True),\n",
    "            nn.Linear(in_features=50, out_features=10, bias=True)\n",
    "        )\n",
    "        \n",
    "    def forward(self, x):\n",
    "        x = self.net(x)\n",
    "        return F.log_softmax(x, dim =1)\n",
    "    \n",
    "network = MNISTNet().to(device)\n",
    "learning_rate = 0.01\n",
    "momentum = 0.5\n",
    "optimizer = optim.SGD(network.parameters(), lr=learning_rate, momentum=momentum)"
   ]
  },
  {
   "cell_type": "code",
   "execution_count": 18,
   "id": "1a644bcb",
   "metadata": {
    "collapsed": false,
    "scrolled": true
   },
   "outputs": [],
   "source": [
    "train_log_batch = 100\n",
    "def train(epoch):\n",
    "    network.train() # Required for dropout\n",
    "    total_loss = 0\n",
    "    count = 0\n",
    "    for batch_idx, (data, target) in enumerate(train_loader):\n",
    "        target = target.to(device)\n",
    "        optimizer.zero_grad()\n",
    "        output = network(data.to(device))\n",
    "        loss = F.nll_loss(output, target)\n",
    "        loss.backward()\n",
    "        optimizer.step()\n",
    "        total_loss += loss.item()\n",
    "        count+=target.shape[0]\n",
    "\n",
    "        if (batch_idx+1) % train_log_batch == 0:\n",
    "            print(\"\\tTrain Batch: {} Loss: {:.6f}\".format(batch_idx+1, total_loss/count))\n",
    "            \n",
    "    print('Train Epoch: {} Loss: {:.6f}\\n'.format(epoch, total_loss/count))\n"
   ]
  },
  {
   "cell_type": "code",
   "execution_count": 5,
   "id": "d1104a92",
   "metadata": {
    "collapsed": false
   },
   "outputs": [],
   "source": [
    "def test():\n",
    "    network.eval() \n",
    "    total_loss = 0\n",
    "    total_correct = 0\n",
    "    count = 0\n",
    "    for batch_idx, (data, target) in enumerate(test_loader):\n",
    "        target=target.to(device)\n",
    "        output = network(data.to(device))\n",
    "        loss = F.nll_loss(output, target)\n",
    "        total_loss += loss.item()\n",
    "        \n",
    "        pred = output.data.max(1).indices\n",
    "        total_correct += (pred == target).sum()\n",
    "        \n",
    "        \n",
    "        count+=target.shape[0]\n",
    "    print('Test Accuracy: {:.4f}, Loss: {:.6f}\\n'.format(total_correct/count*100, total_loss/count))"
   ]
  },
  {
   "cell_type": "code",
   "execution_count": 10,
   "id": "23d49336",
   "metadata": {
    "collapsed": false
   },
   "outputs": [
    {
     "name": "stdout",
     "output_type": "stream",
     "text": [
      "Test Accuracy: 11.4917, Loss: 0.002262\n",
      "\n"
     ]
    },
    {
     "data": {
      "text/plain": [
       "1.676389249998465"
      ]
     },
     "execution_count": 10,
     "metadata": {},
     "output_type": "execute_result"
    }
   ],
   "source": [
    "import timeit\n",
    "timeit.timeit(lambda: test(), number=1 )"
   ]
  },
  {
   "cell_type": "code",
   "execution_count": 19,
   "id": "cdef3f36",
   "metadata": {
    "collapsed": false
   },
   "outputs": [
    {
     "name": "stdout",
     "output_type": "stream",
     "text": [
      "Test Accuracy: 11.4917, Loss: 0.002262\n",
      "\n"
     ]
    },
    {
     "name": "stdout",
     "output_type": "stream",
     "text": [
      "\tTrain Batch: 100 Loss: 0.028653\n"
     ]
    },
    {
     "name": "stdout",
     "output_type": "stream",
     "text": [
      "\tTrain Batch: 200 Loss: 0.020013\n"
     ]
    },
    {
     "name": "stdout",
     "output_type": "stream",
     "text": [
      "\tTrain Batch: 300 Loss: 0.015746\n"
     ]
    },
    {
     "name": "stdout",
     "output_type": "stream",
     "text": [
      "\tTrain Batch: 400 Loss: 0.013379\n"
     ]
    },
    {
     "name": "stdout",
     "output_type": "stream",
     "text": [
      "\tTrain Batch: 500 Loss: 0.011811\n"
     ]
    },
    {
     "name": "stdout",
     "output_type": "stream",
     "text": [
      "\tTrain Batch: 600 Loss: 0.010775\n"
     ]
    },
    {
     "name": "stdout",
     "output_type": "stream",
     "text": [
      "\tTrain Batch: 700 Loss: 0.010007\n"
     ]
    },
    {
     "name": "stdout",
     "output_type": "stream",
     "text": [
      "\tTrain Batch: 800 Loss: 0.009374\n"
     ]
    },
    {
     "name": "stdout",
     "output_type": "stream",
     "text": [
      "\tTrain Batch: 900 Loss: 0.008913\n"
     ]
    },
    {
     "name": "stdout",
     "output_type": "stream",
     "text": [
      "Train Epoch: 1 Loss: 0.008757\n",
      "\n"
     ]
    },
    {
     "name": "stdout",
     "output_type": "stream",
     "text": [
      "Test Accuracy: 91.0500, Loss: 0.000302\n",
      "\n"
     ]
    },
    {
     "name": "stdout",
     "output_type": "stream",
     "text": [
      "\tTrain Batch: 100 Loss: 0.004909\n"
     ]
    },
    {
     "name": "stdout",
     "output_type": "stream",
     "text": [
      "\tTrain Batch: 200 Loss: 0.004932\n"
     ]
    },
    {
     "name": "stdout",
     "output_type": "stream",
     "text": [
      "\tTrain Batch: 300 Loss: 0.004865\n"
     ]
    },
    {
     "name": "stdout",
     "output_type": "stream",
     "text": [
      "\tTrain Batch: 400 Loss: 0.004834\n"
     ]
    },
    {
     "name": "stdout",
     "output_type": "stream",
     "text": [
      "\tTrain Batch: 500 Loss: 0.004728\n"
     ]
    },
    {
     "name": "stdout",
     "output_type": "stream",
     "text": [
      "\tTrain Batch: 600 Loss: 0.004645\n"
     ]
    },
    {
     "name": "stdout",
     "output_type": "stream",
     "text": [
      "\tTrain Batch: 700 Loss: 0.004587\n"
     ]
    },
    {
     "name": "stdout",
     "output_type": "stream",
     "text": [
      "\tTrain Batch: 800 Loss: 0.004539\n"
     ]
    },
    {
     "name": "stdout",
     "output_type": "stream",
     "text": [
      "\tTrain Batch: 900 Loss: 0.004483\n",
      "Train Epoch: 2 Loss: 0.004485\n",
      "\n"
     ]
    },
    {
     "name": "stdout",
     "output_type": "stream",
     "text": [
      "Test Accuracy: 92.4783, Loss: 0.000259\n",
      "\n"
     ]
    },
    {
     "name": "stdout",
     "output_type": "stream",
     "text": [
      "\tTrain Batch: 100 Loss: 0.004063\n"
     ]
    },
    {
     "name": "stdout",
     "output_type": "stream",
     "text": [
      "\tTrain Batch: 200 Loss: 0.004067\n"
     ]
    },
    {
     "name": "stdout",
     "output_type": "stream",
     "text": [
      "\tTrain Batch: 300 Loss: 0.004055\n"
     ]
    },
    {
     "name": "stdout",
     "output_type": "stream",
     "text": [
      "\tTrain Batch: 400 Loss: 0.004025\n"
     ]
    },
    {
     "name": "stdout",
     "output_type": "stream",
     "text": [
      "\tTrain Batch: 500 Loss: 0.003982\n"
     ]
    },
    {
     "name": "stdout",
     "output_type": "stream",
     "text": [
      "\tTrain Batch: 600 Loss: 0.003906\n"
     ]
    },
    {
     "name": "stdout",
     "output_type": "stream",
     "text": [
      "\tTrain Batch: 700 Loss: 0.003882\n"
     ]
    },
    {
     "name": "stdout",
     "output_type": "stream",
     "text": [
      "\tTrain Batch: 800 Loss: 0.003828\n"
     ]
    },
    {
     "name": "stdout",
     "output_type": "stream",
     "text": [
      "\tTrain Batch: 900 Loss: 0.003801\n",
      "Train Epoch: 3 Loss: 0.003789\n",
      "\n"
     ]
    },
    {
     "name": "stdout",
     "output_type": "stream",
     "text": [
      "Test Accuracy: 93.7200, Loss: 0.000215\n",
      "\n"
     ]
    },
    {
     "name": "stdout",
     "output_type": "stream",
     "text": [
      "\tTrain Batch: 100 Loss: 0.003322\n"
     ]
    },
    {
     "name": "stdout",
     "output_type": "stream",
     "text": [
      "\tTrain Batch: 200 Loss: 0.003244\n"
     ]
    },
    {
     "name": "stdout",
     "output_type": "stream",
     "text": [
      "\tTrain Batch: 300 Loss: 0.003253\n"
     ]
    },
    {
     "name": "stdout",
     "output_type": "stream",
     "text": [
      "\tTrain Batch: 400 Loss: 0.003197\n"
     ]
    },
    {
     "name": "stdout",
     "output_type": "stream",
     "text": [
      "\tTrain Batch: 500 Loss: 0.003197\n"
     ]
    },
    {
     "name": "stdout",
     "output_type": "stream",
     "text": [
      "\tTrain Batch: 600 Loss: 0.003205\n"
     ]
    },
    {
     "name": "stdout",
     "output_type": "stream",
     "text": [
      "\tTrain Batch: 700 Loss: 0.003179\n"
     ]
    },
    {
     "name": "stdout",
     "output_type": "stream",
     "text": [
      "\tTrain Batch: 800 Loss: 0.003174\n"
     ]
    },
    {
     "name": "stdout",
     "output_type": "stream",
     "text": [
      "\tTrain Batch: 900 Loss: 0.003139\n"
     ]
    },
    {
     "name": "stdout",
     "output_type": "stream",
     "text": [
      "Train Epoch: 4 Loss: 0.003141\n",
      "\n"
     ]
    },
    {
     "name": "stdout",
     "output_type": "stream",
     "text": [
      "Test Accuracy: 94.9967, Loss: 0.000174\n",
      "\n"
     ]
    },
    {
     "name": "stdout",
     "output_type": "stream",
     "text": [
      "\tTrain Batch: 100 Loss: 0.002911\n"
     ]
    },
    {
     "name": "stdout",
     "output_type": "stream",
     "text": [
      "\tTrain Batch: 200 Loss: 0.002935\n"
     ]
    },
    {
     "name": "stdout",
     "output_type": "stream",
     "text": [
      "\tTrain Batch: 300 Loss: 0.002852\n"
     ]
    },
    {
     "name": "stdout",
     "output_type": "stream",
     "text": [
      "\tTrain Batch: 400 Loss: 0.002797\n"
     ]
    },
    {
     "name": "stdout",
     "output_type": "stream",
     "text": [
      "\tTrain Batch: 500 Loss: 0.002738\n"
     ]
    },
    {
     "name": "stdout",
     "output_type": "stream",
     "text": [
      "\tTrain Batch: 600 Loss: 0.002719\n"
     ]
    },
    {
     "name": "stdout",
     "output_type": "stream",
     "text": [
      "\tTrain Batch: 700 Loss: 0.002692\n"
     ]
    },
    {
     "name": "stdout",
     "output_type": "stream",
     "text": [
      "\tTrain Batch: 800 Loss: 0.002676\n"
     ]
    },
    {
     "name": "stdout",
     "output_type": "stream",
     "text": [
      "\tTrain Batch: 900 Loss: 0.002632\n"
     ]
    },
    {
     "name": "stdout",
     "output_type": "stream",
     "text": [
      "Train Epoch: 5 Loss: 0.002625\n",
      "\n"
     ]
    },
    {
     "name": "stdout",
     "output_type": "stream",
     "text": [
      "Test Accuracy: 95.8167, Loss: 0.000146\n",
      "\n"
     ]
    }
   ],
   "source": [
    "n_epoch=5\n",
    "test()\n",
    "for epoch in range(1, n_epoch+1):\n",
    "    train(epoch)\n",
    "    test()"
   ]
  },
  {
   "cell_type": "code",
   "execution_count": 20,
   "id": "d3f07d70",
   "metadata": {
    "collapsed": false
   },
   "outputs": [],
   "source": [
    "pred = network(example_data.to(device)).max(1).indices"
   ]
  },
  {
   "cell_type": "code",
   "execution_count": 21,
   "id": "7b465106",
   "metadata": {
    "collapsed": false
   },
   "outputs": [
    {
     "data": {
      "image/png": "[encoded data removed]",
      "text/plain": [
       "<Figure size 640x480 with 6 Axes>"
      ]
     },
     "metadata": {},
     "output_type": "display_data"
    }
   ],
   "source": [
    "idxs = pred != example_targets.to(device)\n",
    "plotImages(6, example_data.to(device)[idxs].to('cpu'), example_targets.to(device)[idxs].to('cpu'), pred[idxs].to('cpu'))"
   ]
  }
 ],
 "metadata": {
  "kernelspec": {
   "argv": [
    "/opt/homebrew/opt/python@3.11/bin/python3.11",
    "-m",
    "ipykernel_launcher",
    "-f",
    "{connection_file}"
   ],
   "display_name": "Python 3 (ipykernel)",
   "env": null,
   "interrupt_mode": "signal",
   "language": "python",
   "metadata": {
    "debugger": true
   },
   "name": "python3"
  },
  "language_info": {
   "codemirror_mode": {
    "name": "ipython",
    "version": 3
   },
   "file_extension": ".py",
   "mimetype": "text/x-python",
   "name": "python",
   "nbconvert_exporter": "python",
   "pygments_lexer": "ipython3",
   "version": "3.11.2"
  },
  "name": "01 MNIST Handwriting - 02 - No Dropout.ipynb"
 },
 "nbformat": 4,
 "nbformat_minor": 5
}
